{
  "nbformat": 4,
  "nbformat_minor": 0,
  "metadata": {
    "colab": {
      "name": "DFS,BFS.ipynb",
      "provenance": [],
      "collapsed_sections": [],
      "authorship_tag": "ABX9TyMIK2sc9GrRof0sTz+l3qAC",
      "include_colab_link": true
    },
    "kernelspec": {
      "name": "python3",
      "display_name": "Python 3"
    },
    "language_info": {
      "name": "python"
    },
    "gpuClass": "standard"
  },
  "cells": [
    {
      "cell_type": "markdown",
      "metadata": {
        "id": "view-in-github",
        "colab_type": "text"
      },
      "source": [
        "<a href=\"https://colab.research.google.com/github/s2ul2/This-is-coding-test-with-Python/blob/main/DFS%2CBFS.ipynb\" target=\"_parent\"><img src=\"https://colab.research.google.com/assets/colab-badge.svg\" alt=\"Open In Colab\"/></a>"
      ]
    },
    {
      "cell_type": "markdown",
      "source": [
        "# Chap5"
      ],
      "metadata": {
        "id": "u_nbTlp30DEA"
      }
    },
    {
      "cell_type": "markdown",
      "source": [
        "## DFS : 스택 or 재귀함수\n",
        "1.  탐색 시작 노드를 스택에 삽입 -> 방문 처리\n",
        "2. 스택의 최상단 노드에 방문하지 않은 인접노드가 있으면 그 인접노드를 스택에 삽입 -> 방문 처리\n",
        "* 만일 방문하지 않은 인접노드가 없으면 스택에서 최상단 노드 꺼냄.\n",
        "3. 2번 과정을 더 이상 수행할 수 없을 때까지 반복"
      ],
      "metadata": {
        "id": "sbWYHniL9NH7"
      }
    },
    {
      "cell_type": "code",
      "execution_count": 2,
      "metadata": {
        "colab": {
          "base_uri": "https://localhost:8080/"
        },
        "id": "qBuEUPTRz0QV",
        "outputId": "711b4a25-097b-4074-f532-f6bd5cdeb3c6"
      },
      "outputs": [
        {
          "output_type": "stream",
          "name": "stdout",
          "text": [
            "1 2 7 6 8 3 4 5 "
          ]
        }
      ],
      "source": [
        "# DFS 함수 정의\n",
        "def dfs(graph, v, visited):\n",
        "    # 현재 노드를 방문 처리\n",
        "    visited[v] = True\n",
        "    print(v, end=' ')\n",
        "    # 현재 노드와 연결된 다른 노드를 재귀적으로 방문\n",
        "    for i in graph[v]:\n",
        "        if not visited[i]:\n",
        "            dfs(graph, i, visited)\n",
        "\n",
        "# 각 노드가 연결된 정보를 리스트 자료형으로 표현(2차원 리스트)\n",
        "graph = [\n",
        "  [],\n",
        "  [2, 3, 8],\n",
        "  [1, 7],\n",
        "  [1, 4, 5],\n",
        "  [3, 5],\n",
        "  [3, 4],\n",
        "  [7],\n",
        "  [2, 6, 8],\n",
        "  [1, 7]\n",
        "]\n",
        "\n",
        "# 각 노드가 방문된 정보를 리스트 자료형으로 표현(1차원 리스트)\n",
        "visited = [False] * 9\n",
        "\n",
        "# 정의된 DFS 함수 호출\n",
        "dfs(graph, 1, visited)"
      ]
    },
    {
      "cell_type": "markdown",
      "source": [
        "## BFS : 큐\n",
        "* 간선의 길이가 같을 때 최단경로를 찾을 경우 사용\n",
        "1. 탐색 시작 노드를 큐에 삽입 -> 방문처리\n",
        "2. 큐에서 노드를 꺼내 해당 노드의 인접노드 중에서 방문하지 않은 노드를 모두 큐에 삽입 -> 방문처리\n",
        "3. 2번 과정을 더 이상 수행할 수 없을때까지 반복"
      ],
      "metadata": {
        "id": "mrnmNFw2-U_m"
      }
    },
    {
      "cell_type": "code",
      "source": [
        "from collections import deque\n",
        "\n",
        "# BFS 함수 정의\n",
        "def bfs(graph, start, visited):\n",
        "    # 큐(Queue) 구현을 위해 deque 라이브러리 사용\n",
        "    queue = deque([start])\n",
        "    # 현재 노드를 방문 처리\n",
        "    visited[start] = True\n",
        "    # 큐가 빌 때까지 반복\n",
        "    while queue:\n",
        "        # 큐에서 하나의 원소를 뽑아 출력\n",
        "        v = queue.popleft()\n",
        "        print(v, end=' ')\n",
        "        # 해당 원소와 연결된, 아직 방문하지 않은 원소들을 큐에 삽입\n",
        "        for i in graph[v]:\n",
        "            if not visited[i]:\n",
        "                queue.append(i)\n",
        "                visited[i] = True\n",
        "\n",
        "# 각 노드가 연결된 정보를 리스트 자료형으로 표현(2차원 리스트)\n",
        "graph = [\n",
        "  [],\n",
        "  [2, 3, 8],\n",
        "  [1, 7],\n",
        "  [1, 4, 5],\n",
        "  [3, 5],\n",
        "  [3, 4],\n",
        "  [7],\n",
        "  [2, 6, 8],\n",
        "  [1, 7]\n",
        "]\n",
        "\n",
        "# 각 노드가 방문된 정보를 리스트 자료형으로 표현(1차원 리스트)\n",
        "visited = [False] * 9\n",
        "\n",
        "# 정의된 BFS 함수 호출\n",
        "bfs(graph, 1, visited)"
      ],
      "metadata": {
        "colab": {
          "base_uri": "https://localhost:8080/"
        },
        "id": "fd-HyyAn0GyY",
        "outputId": "2c083630-7332-4b93-e531-2d911a47801b"
      },
      "execution_count": 3,
      "outputs": [
        {
          "output_type": "stream",
          "name": "stdout",
          "text": [
            "1 2 3 8 7 4 5 6 "
          ]
        }
      ]
    },
    {
      "cell_type": "markdown",
      "source": [
        "## 음료수 얼려 먹기 : 해결 o (44분 45초)"
      ],
      "metadata": {
        "id": "qVlkehn6Fiuc"
      }
    },
    {
      "cell_type": "code",
      "source": [
        "# 0 : 구멍뚫림, 1 : 칸막이\n",
        "n, m = map(int, input().split()) # n = i, m = j\n",
        "graph = []\n",
        "for i in range(n):\n",
        "    graph.append(list(map(int, input())))\n",
        "    \n",
        "visited = [[False] * m for _ in range(n)]\n",
        "# 1인 곳은 visited를 True로 하기\n",
        "for i,g in enumerate(graph):\n",
        "    for j in range(m):\n",
        "        if g[j] == 1:\n",
        "            visited[i][j] = True\n",
        "\n",
        "\n",
        "# 동, 서, 남, 북\n",
        "di_lst = [0, 0, 1, -1]\n",
        "dj_lst = [1, -1, 0, 0]\n",
        "\n",
        "def dfs(graph, start, visited):\n",
        "    i, j = start\n",
        "    visited[i][j] = True\n",
        "    #print(i, j)\n",
        "    for di,dj in zip(di_lst, dj_lst):\n",
        "        t_i = i + di\n",
        "        t_j = j + dj\n",
        "        if (t_i >= 0 and t_i < n and t_j >= 0 and t_j < m) and ( graph[t_i][t_j] == 0 )and (not visited[t_i][t_j]): # 방문 가능하다면\n",
        "            dfs(graph, [t_i, t_j], visited)\n",
        "\n",
        "cnt = 0\n",
        "for i, v in enumerate(visited):\n",
        "    for j in range(m):\n",
        "        if v[j] == False:\n",
        "            start = [i,j]\n",
        "            dfs(graph, start, visited)\n",
        "            cnt += 1\n",
        "\n",
        "print(cnt)\n",
        "\n",
        "\n"
      ],
      "metadata": {
        "colab": {
          "base_uri": "https://localhost:8080/"
        },
        "id": "iHaI_iZ7FmgI",
        "outputId": "d3a7ef06-6915-468c-876d-ac96a5f48d44"
      },
      "execution_count": 17,
      "outputs": [
        {
          "output_type": "stream",
          "name": "stdout",
          "text": [
            "15 14\n",
            "00000111100000\n",
            "11111101111110\n",
            "11011101101110\n",
            "11011101100000\n",
            "11011111111111\n",
            "11011111111100\n",
            "11000000011111\n",
            "01111111111111\n",
            "00000000011111\n",
            "01111111111000\n",
            "00011111111000\n",
            "00000001111000\n",
            "11111111110011\n",
            "11100011111111\n",
            "11100011111111\n",
            "8\n"
          ]
        }
      ]
    },
    {
      "cell_type": "markdown",
      "source": [
        "### 책 풀이"
      ],
      "metadata": {
        "id": "ptp2Dn0UFlNi"
      }
    },
    {
      "cell_type": "markdown",
      "source": [
        "* visited를 따로 만들 필요 없이 방문을 햇으면 graph 요소를 1로 바꿔도 됨."
      ],
      "metadata": {
        "id": "LPmQp1EQRwsa"
      }
    },
    {
      "cell_type": "code",
      "source": [
        "\n",
        "# N, M을 공백을 기준으로 구분하여 입력 받기\n",
        "n, m = map(int, input().split())\n",
        "\n",
        "# 2차원 리스트의 맵 정보 입력 받기\n",
        "graph = []\n",
        "for i in range(n):\n",
        "    graph.append(list(map(int, input())))\n",
        "\n",
        "# DFS로 특정한 노드를 방문한 뒤에 연결된 모든 노드들도 방문\n",
        "def dfs(x, y):\n",
        "    # 주어진 범위를 벗어나는 경우에는 즉시 종료\n",
        "    if x <= -1 or x >= n or y <= -1 or y >= m:\n",
        "        return False\n",
        "    # 현재 노드를 아직 방문하지 않았다면\n",
        "    if graph[x][y] == 0:\n",
        "        # 해당 노드 방문 처리\n",
        "        graph[x][y] = 1\n",
        "        # 상, 하, 좌, 우의 위치들도 모두 재귀적으로 호출\n",
        "        dfs(x - 1, y)\n",
        "        dfs(x, y - 1)\n",
        "        dfs(x + 1, y)\n",
        "        dfs(x, y + 1)\n",
        "        return True\n",
        "    return False\n",
        "\n",
        "# 모든 노드(위치)에 대하여 음료수 채우기\n",
        "result = 0\n",
        "for i in range(n):\n",
        "    for j in range(m):\n",
        "        # 현재 위치에서 DFS 수행\n",
        "        if dfs(i, j) == True:\n",
        "            result += 1\n",
        "\n",
        "print(result) # 정답 출력"
      ],
      "metadata": {
        "id": "ZQM0mjHA0G70"
      },
      "execution_count": null,
      "outputs": []
    },
    {
      "cell_type": "markdown",
      "source": [
        "## 미로 탈출 : 못풂,,,"
      ],
      "metadata": {
        "id": "ZSZiRn6CSr0L"
      }
    },
    {
      "cell_type": "code",
      "source": [
        "# 0 : 괴물 o /// 1 : 괴물 X\n",
        "# --> 방문 하면 해당 칸은 0으로 바꾼다. (visited 만들 필요 X)\n",
        "from collections import deque\n",
        "n, m = map(int, input().split())\n",
        "graph = []\n",
        "for i in range(n):\n",
        "    graph.append(list(map(int, input())))\n",
        "\n",
        "# 동, 서, 남, 북\n",
        "di_lst = [0, 0, 1, -1]\n",
        "dj_lst = [1, -1, 0, 0]\n",
        "\n",
        "def bfs(graph, start, end):\n",
        "    s_i, s_j = start\n",
        "    queue = deque([start])\n",
        "    # 시작노드 방문처리\n",
        "    graph[s_i][s_j] = 0\n",
        "    cnt = 1\n",
        "    while 1:\n",
        "        i, j = queue.popleft()\n",
        "        print(i, j)\n",
        "        if [i, j] == end:\n",
        "            return cnt\n",
        "        for di, dj in zip(di_lst, dj_lst):\n",
        "            t_i = i + di\n",
        "            t_j = j + dj\n",
        "            if t_i >= 0 and t_i < n and t_j >= 0 and t_j < m and graph[t_i][t_j] == 1: # 방문가능\n",
        "                queue.append([t_i, t_j])\n",
        "                graph[t_i][t_j] = 0\n",
        "                cnt += 1\n",
        "    return cnt\n",
        "            \n",
        "\n",
        "start = [0, 0]\n",
        "end = [n-1, m-1]\n",
        "bfs(graph, start, end)"
      ],
      "metadata": {
        "colab": {
          "base_uri": "https://localhost:8080/"
        },
        "id": "eMIq9MoN0HBO",
        "outputId": "198950b4-08e7-4cbf-b8d6-01f19b47ef6e"
      },
      "execution_count": 26,
      "outputs": [
        {
          "output_type": "stream",
          "name": "stdout",
          "text": [
            "5 6\n",
            "101010\n",
            "111111\n",
            "000001\n",
            "111111\n",
            "111111\n",
            "0 0\n",
            "1 0\n",
            "1 1\n",
            "1 2\n",
            "1 3\n",
            "0 2\n",
            "1 4\n",
            "1 5\n",
            "0 4\n",
            "2 5\n",
            "3 5\n",
            "3 4\n",
            "4 5\n"
          ]
        },
        {
          "output_type": "execute_result",
          "data": {
            "text/plain": [
              "15"
            ]
          },
          "metadata": {},
          "execution_count": 26
        }
      ]
    },
    {
      "cell_type": "markdown",
      "source": [
        "### 책 풀이"
      ],
      "metadata": {
        "id": "a8nHL5B3StVk"
      }
    },
    {
      "cell_type": "code",
      "source": [
        "from collections import deque\n",
        "\n",
        "# N, M을 공백을 기준으로 구분하여 입력 받기\n",
        "n, m = map(int, input().split())\n",
        "# 2차원 리스트의 맵 정보 입력 받기\n",
        "graph = []\n",
        "for i in range(n):\n",
        "    graph.append(list(map(int, input())))\n",
        "\n",
        "# 이동할 네 가지 방향 정의 (상, 하, 좌, 우)\n",
        "# dx = [-1, 1, 0, 0]\n",
        "# dy = [0, 0, -1, 1]\n",
        "\n",
        "\n",
        "dx = [0, 0, 1, -1]\n",
        "dy = [1, -1, 0, 0]\n",
        "\n",
        "\n",
        "# BFS 소스코드 구현\n",
        "def bfs(x, y):\n",
        "    # 큐(Queue) 구현을 위해 deque 라이브러리 사용\n",
        "    queue = deque()\n",
        "    queue.append((x, y))\n",
        "    # 큐가 빌 때까지 반복하기\n",
        "    while queue:\n",
        "        x, y = queue.popleft()\n",
        "        print(x, y)\n",
        "        # 현재 위치에서 4가지 방향으로의 위치 확인\n",
        "        for i in range(4):\n",
        "            nx = x + dx[i]\n",
        "            ny = y + dy[i]\n",
        "            # 미로 찾기 공간을 벗어난 경우 무시\n",
        "            if nx < 0 or nx >= n or ny < 0 or ny >= m:\n",
        "                continue\n",
        "            # 벽인 경우 무시\n",
        "            if graph[nx][ny] == 0:\n",
        "                continue\n",
        "            # 해당 노드를 처음 방문하는 경우에만 최단 거리 기록 (값이 1보다 큰 경우 이미 방문한 곳임.)\n",
        "            if graph[nx][ny] == 1:\n",
        "                graph[nx][ny] = graph[x][y] + 1 # 이전 노드의 최단거리에 1을 더함.\n",
        "                queue.append((nx, ny))\n",
        "                print('큐' + str(queue))\n",
        "    # 가장 오른쪽 아래까지의 최단 거리 반환\n",
        "    return graph[n - 1][m - 1]\n",
        "\n",
        "# 큐 : [12 10]\n",
        "\n",
        "# BFS를 수행한 결과 출력\n",
        "print(bfs(0, 0))\n",
        "print(graph)"
      ],
      "metadata": {
        "colab": {
          "base_uri": "https://localhost:8080/"
        },
        "id": "ue46npxF0HFr",
        "outputId": "bbb6b407-e3a3-41ed-994f-800a7536d5e3"
      },
      "execution_count": 30,
      "outputs": [
        {
          "output_type": "stream",
          "name": "stdout",
          "text": [
            "5 6\n",
            "101010\n",
            "111111\n",
            "000001\n",
            "111111\n",
            "111111\n",
            "0 0\n",
            "큐deque([(1, 0)])\n",
            "1 0\n",
            "큐deque([(1, 1)])\n",
            "큐deque([(1, 1), (0, 0)])\n",
            "1 1\n",
            "큐deque([(0, 0), (1, 2)])\n",
            "0 0\n",
            "1 2\n",
            "큐deque([(1, 3)])\n",
            "큐deque([(1, 3), (0, 2)])\n",
            "1 3\n",
            "큐deque([(0, 2), (1, 4)])\n",
            "0 2\n",
            "1 4\n",
            "큐deque([(1, 5)])\n",
            "큐deque([(1, 5), (0, 4)])\n",
            "1 5\n",
            "큐deque([(0, 4), (2, 5)])\n",
            "0 4\n",
            "2 5\n",
            "큐deque([(3, 5)])\n",
            "3 5\n",
            "큐deque([(3, 4)])\n",
            "큐deque([(3, 4), (4, 5)])\n",
            "3 4\n",
            "큐deque([(4, 5), (3, 3)])\n",
            "큐deque([(4, 5), (3, 3), (4, 4)])\n",
            "4 5\n",
            "3 3\n",
            "큐deque([(4, 4), (3, 2)])\n",
            "큐deque([(4, 4), (3, 2), (4, 3)])\n",
            "4 4\n",
            "3 2\n",
            "큐deque([(4, 3), (3, 1)])\n",
            "큐deque([(4, 3), (3, 1), (4, 2)])\n",
            "4 3\n",
            "3 1\n",
            "큐deque([(4, 2), (3, 0)])\n",
            "큐deque([(4, 2), (3, 0), (4, 1)])\n",
            "4 2\n",
            "3 0\n",
            "큐deque([(4, 1), (4, 0)])\n",
            "4 1\n",
            "4 0\n",
            "10\n",
            "[[3, 0, 5, 0, 7, 0], [2, 3, 4, 5, 6, 7], [0, 0, 0, 0, 0, 8], [14, 13, 12, 11, 10, 9], [15, 14, 13, 12, 11, 10]]\n"
          ]
        }
      ]
    },
    {
      "cell_type": "markdown",
      "source": [
        "* 모든 노드간의 거리가 1로 동일 -> (1,1) 지점부터 bfs를 수행하여 모든 노드의 최단 거리 값을 기록하여 해결\n",
        "* 즉 특정 노드를 방문하면 그 이전 노드의 거리에 1을 더한 값을 기록."
      ],
      "metadata": {
        "id": "jfmmUu0EgMFd"
      }
    },
    {
      "cell_type": "markdown",
      "source": [
        "# Chap12"
      ],
      "metadata": {
        "id": "-AJFrvNt0FH1"
      }
    },
    {
      "cell_type": "markdown",
      "source": [
        "## 특정 거리의 도시 찾기 : 틀림 (30분 48초)"
      ],
      "metadata": {
        "id": "CYHKAUzNnULj"
      }
    },
    {
      "cell_type": "markdown",
      "source": [
        "* 틀린부분 : 최단거리 초기화는 -1로 하기\n",
        "* 최단거리가 k인 것이 여러개가 존재하는 경우 index 쓰면 안됨. 그냥 for문 돌려서 찾자!"
      ],
      "metadata": {
        "id": "l6bEEydjI_9b"
      }
    },
    {
      "cell_type": "code",
      "source": [
        "from collections import deque\n",
        "# N : 도시개수, M : 도로개수, K : 찾는 거리, X : 출발 도시번호\n",
        "n, m, k, x = map(int, input().split())\n",
        "\n",
        "graph = [[] for _ in range(n+1)] # 0번째는 사용X\n",
        "# bfs\n",
        "for i in range(m):\n",
        "    s, e = map(int, input().split())\n",
        "    graph[s].append(e)\n",
        "\n",
        "visited = [0 for _ in range(n+1)]\n",
        "\n",
        "\n",
        "def bfs(graph, x, k):\n",
        "    queue = deque()\n",
        "    queue.append(x)\n",
        "    while queue:\n",
        "        city = queue.popleft()\n",
        "        for i in graph[city]:\n",
        "            if visited[i] == 0: # 처음 방문한 곳이라면\n",
        "                queue.append(i)\n",
        "                visited[i] = visited[city] + 1\n",
        "    \n",
        "    try:\n",
        "        return visited.index(k)\n",
        "    except:\n",
        "        return -1\n",
        "\n",
        "bfs(graph, x, k)"
      ],
      "metadata": {
        "colab": {
          "base_uri": "https://localhost:8080/"
        },
        "id": "bP5cfDHSnSjB",
        "outputId": "fa000bfa-1527-499e-d368-a92e78dbb570"
      },
      "execution_count": 51,
      "outputs": [
        {
          "name": "stdout",
          "output_type": "stream",
          "text": [
            "4 4 1 2\n",
            "1 2\n",
            "1 3\n",
            "2 3\n",
            "2 4\n"
          ]
        },
        {
          "output_type": "execute_result",
          "data": {
            "text/plain": [
              "3"
            ]
          },
          "metadata": {},
          "execution_count": 51
        }
      ]
    },
    {
      "cell_type": "markdown",
      "source": [
        "### 책 답안"
      ],
      "metadata": {
        "id": "8YAPW8YdnV-e"
      }
    },
    {
      "cell_type": "code",
      "source": [
        "from collections import deque\n",
        "\n",
        "# 도시의 개수, 도로의 개수, 거리 정보, 출발 도시 번호\n",
        "n, m, k, x = map(int, input().split())\n",
        "graph = [[] for _ in range(n + 1)]\n",
        "\n",
        "# 모든 도로 정보 입력 받기\n",
        "for _ in range(m):\n",
        "    a, b = map(int, input().split())\n",
        "    graph[a].append(b)\n",
        "\n",
        "# 모든 도시에 대한 최단 거리 초기화\n",
        "distance = [-1] * (n + 1)\n",
        "distance[x] = 0 # 출발 도시까지의 거리는 0으로 설정\n",
        "\n",
        "# 너비 우선 탐색(BFS) 수행\n",
        "q = deque([x])\n",
        "while q:\n",
        "    now = q.popleft()\n",
        "    # 현재 도시에서 이동할 수 있는 모든 도시를 확인\n",
        "    for next_node in graph[now]:\n",
        "        # 아직 방문하지 않은 도시라면\n",
        "        if distance[next_node] == -1:\n",
        "            # 최단 거리 갱신\n",
        "            distance[next_node] = distance[now] + 1\n",
        "            q.append(next_node)\n",
        "\n",
        "# 최단 거리가 K인 모든 도시의 번호를 오름차순으로 출력\n",
        "check = False\n",
        "for i in range(1, n + 1):\n",
        "    if distance[i] == k:\n",
        "        print(i)\n",
        "        check = True\n",
        "\n",
        "# 만약 최단 거리가 K인 도시가 없다면, -1 출력\n",
        "if check == False:\n",
        "    print(-1)"
      ],
      "metadata": {
        "id": "MuQzD-NsISNf"
      },
      "execution_count": null,
      "outputs": []
    },
    {
      "cell_type": "markdown",
      "source": [
        "1. 특정 도시 X를 시작점으로 bfs를 수행하여 모든 도시까지의 최단 거리를 계산\n",
        "2. 각 최단 거리를 하나씩 확인하며 그 값이 k인 경우 도시 번호 출력\n",
        "\n",
        "최단 거리 초기화는 -1로 한다!!"
      ],
      "metadata": {
        "id": "Y-nFRoaKIgRB"
      }
    },
    {
      "cell_type": "markdown",
      "source": [
        "## 연구소 : 열심히 했는데 틀림 ㅡㅡㅡㅡ"
      ],
      "metadata": {
        "id": "Mc_Y45n-nXfI"
      }
    },
    {
      "cell_type": "code",
      "source": [
        "from collections import deque\n",
        "from itertools import combinations as cb\n",
        "\n",
        "\n",
        "def bfs(graph):\n",
        "    n = len(graph)\n",
        "    m = len(graph[0])\n",
        "    virus_lst = []\n",
        "    for i in range(n):\n",
        "        for j in range(m):\n",
        "            if graph[i][j] == 2:\n",
        "                virus_lst.append([i, j])\n",
        "\n",
        "    for virus_idx in virus_lst: # 바이러스 개수만큼 반복\n",
        "        q = deque([virus_idx])\n",
        "        while q:\n",
        "            i, j = q.popleft()\n",
        "            for di, dj in zip(di_lst, dj_lst):\n",
        "                ni = i + di\n",
        "                nj = j + dj\n",
        "                if ni >= 0 and ni < n and nj >= 0 and nj < m: \n",
        "                    if graph[ni][nj] == 0:\n",
        "                        q.append([ni, nj])\n",
        "                        graph[ni][nj] = 2\n",
        "    score = 0\n",
        "    for i in range(n):\n",
        "        for j in range(m):\n",
        "            if graph[i][j] == 0:\n",
        "                score+=1\n",
        "    print(score)\n",
        "    return score\n",
        "\n",
        "\n",
        "# 0 : 빈칸 / 1 : 벽 / 2 : 바이러스\n",
        "\n",
        "n, m = map(int, input().split())\n",
        "graph = []\n",
        "for i in range(n):\n",
        "    graph.append(list(map(int, input().split())))\n",
        "\n",
        "\n",
        "# 동 서 남 북\n",
        "di_lst = [0, 0, 1, -1]\n",
        "dj_lst = [1, -1, 0, 0]\n",
        "\n",
        "# idx_lst에서 랜덤으로 3개 뽑기\n",
        "idx_lst = []\n",
        "for i in range(n):\n",
        "    for j in range(m):\n",
        "        idx_lst.append([i, j])\n",
        "\n",
        "max_score = 0\n",
        "\n",
        "origin_graph = graph.copy()\n",
        "cb_3 = cb(idx_lst, 3)\n",
        "print(cb_3)\n",
        "# 3개 뽑은 결과리스트 모두 적용\n",
        "for idx_3 in cb_3:\n",
        "    graph = origin_graph.copy()\n",
        "    isbreak = 0\n",
        "    for idx in idx_3:\n",
        "        i, j = idx # 3개 뽑은 것 중에 한개\n",
        "        if graph[i][j] in [1, 2]: # 뽑은 것 중에 graph 값이 1이거나 2인경우 (즉 벽이거나 바이러스인 경우) 뽑은 결과는 무효 -> 다음 뽑기 결과로 넘어감\n",
        "            isbreak = 1\n",
        "            break # 두번째 for문 탈출\n",
        "    if isbreak:\n",
        "        continue # 첫번째 for문으로 돌아감\n",
        "\n",
        "    # 여기서부터 제대로 뽑힌 것 -> 뽑은 3개의 결과를 벽으로 바꾸기\n",
        "    for idx in idx_3:\n",
        "        i, j = idx\n",
        "        graph[i][j] = 1\n",
        "    \n",
        "    max_score = max(max_score, bfs(graph))\n",
        "\n",
        "print(max_score)\n",
        "\n"
      ],
      "metadata": {
        "colab": {
          "base_uri": "https://localhost:8080/"
        },
        "id": "xVTavjdMnTUP",
        "outputId": "0998762c-db9d-4aa4-8054-91c54cc49176"
      },
      "execution_count": 88,
      "outputs": [
        {
          "output_type": "stream",
          "name": "stdout",
          "text": [
            "4 6\n",
            "0 0 0 0 0 0\n",
            "1 0 0 0 0 2\n",
            "1 1 1 0 0 2\n",
            "0 0 0 0 0 2\n",
            "<itertools.combinations object at 0x7fcb78569fb0>\n",
            "제발\n",
            "0\n",
            "0\n"
          ]
        }
      ]
    },
    {
      "cell_type": "markdown",
      "source": [
        "### 책 답안"
      ],
      "metadata": {
        "id": "CJi10-DOnZPK"
      }
    },
    {
      "cell_type": "code",
      "source": [
        "n, m = map(int, input().split())\n",
        "data = [] # 초기 맵 리스트\n",
        "temp = [[0] * m for _ in range(n)] # 벽을 설치한 뒤의 맵 리스트\n",
        "\n",
        "for _ in range(n):\n",
        "    data.append(list(map(int, input().split())))\n",
        "\n",
        "# 4가지 이동 방향에 대한 리스트\n",
        "dx = [-1, 0, 1, 0]\n",
        "dy = [0, 1, 0, -1]\n",
        "\n",
        "result = 0\n",
        "\n",
        "# 깊이 우선 탐색(DFS)을 이용해 각 바이러스가 사방으로 퍼지도록 하기\n",
        "def virus(x, y):\n",
        "    for i in range(4):\n",
        "        nx = x + dx[i]\n",
        "        ny = y + dy[i]\n",
        "        # 상, 하, 좌, 우 중에서 바이러스가 퍼질 수 있는 경우\n",
        "        if nx >= 0 and nx < n and ny >= 0 and ny < m:\n",
        "            if temp[nx][ny] == 0:\n",
        "                # 해당 위치에 바이러스 배치하고, 다시 재귀적으로 수행\n",
        "                temp[nx][ny] = 2\n",
        "                virus(nx, ny)\n",
        "\n",
        "# 현재 맵에서 안전 영역의 크기 계산하는 메서드\n",
        "def get_score():\n",
        "    score = 0\n",
        "    for i in range(n):\n",
        "        for j in range(m):\n",
        "            if temp[i][j] == 0:\n",
        "                score += 1\n",
        "    return score\n",
        "\n",
        "# 깊이 우선 탐색(DFS)을 이용해 울타리를 설치하면서, 매 번 안전 영역의 크기 계산\n",
        "def dfs(count):\n",
        "    global result\n",
        "    # 울타리가 3개 설치된 경우\n",
        "    if count == 3:\n",
        "        for i in range(n):\n",
        "            for j in range(m):\n",
        "                temp[i][j] = data[i][j]\n",
        "        # 각 바이러스의 위치에서 전파 진행\n",
        "        for i in range(n):\n",
        "            for j in range(m):\n",
        "                if temp[i][j] == 2:\n",
        "                    virus(i, j)\n",
        "        # 안전 영역의 최대값 계산\n",
        "        result = max(result, get_score())\n",
        "        return\n",
        "    # 빈 공간에 울타리를 설치\n",
        "    for i in range(n):\n",
        "        for j in range(m):\n",
        "            if data[i][j] == 0:\n",
        "                data[i][j] = 1\n",
        "                count += 1\n",
        "                dfs(count)\n",
        "                data[i][j] = 0\n",
        "                count -= 1\n",
        "\n",
        "dfs(0)\n",
        "print(result)"
      ],
      "metadata": {
        "id": "Pct8zRkenTXq"
      },
      "execution_count": null,
      "outputs": []
    },
    {
      "cell_type": "markdown",
      "source": [
        "## 경쟁적 전염 : 해결 o (31분 20초)"
      ],
      "metadata": {
        "id": "DaCEfBSKna2g"
      }
    },
    {
      "cell_type": "code",
      "source": [
        "# n : 행렬 크기, k : 바이러스 종류\n",
        "n, k = map(int, input().split())\n",
        "graph = []\n",
        "for _ in range(n):\n",
        "    graph.append(list(map(int, input().split())))\n",
        "\n",
        "# s : 초, i, j : 좌표\n",
        "s, ans_i, ans_j = map(int, input().split())\n",
        "\n",
        "# 방향벡터 : 동 서 남 북\n",
        "di_lst = [0, 0, 1, -1]\n",
        "dj_lst = [1, -1, 0, 0]\n",
        "\n",
        "for sec in range(s):\n",
        "    # 낮은 바이러스부터 번식 시작\n",
        "    # 특정 바이러스의 위치를 search_lst에 담기\n",
        "    for num in range(1, k+1):\n",
        "        search_lst = []\n",
        "        for i in range(n):\n",
        "            for j in range(n):\n",
        "                if graph[i][j] == num: # 특정 바이러스 번호를 지닌 위치\n",
        "                    search_lst.append([i, j])\n",
        "                \n",
        "        for i, j in search_lst:\n",
        "            print(str(num) + '위치 : ' + str(i) + ' ' +  str(j) )\n",
        "            print(str(num) + '번식 시작')\n",
        "            # 해당 위치에서 갈 수 있는 곳 찾기\n",
        "            for di, dj in zip(di_lst, dj_lst):\n",
        "                ni = i + di\n",
        "                nj = j + dj\n",
        "\n",
        "                if ni >=0 and ni < n and nj >= 0 and nj < n: \n",
        "                    if graph[ni][nj] == 0: # 해당 위치를 갈 수 있으므로 해당 위치를 바이러스 번호로 바꾸기 (즉 증식 된 것)\n",
        "                        print(ni, nj)\n",
        "                        graph[ni][nj] = num\n",
        "        print(graph)\n",
        "                              \n",
        "print(graph[ans_i-1][ans_j-1])\n",
        "\n",
        "            "
      ],
      "metadata": {
        "colab": {
          "base_uri": "https://localhost:8080/"
        },
        "id": "AbwaloRXnTb3",
        "outputId": "267e6a8b-58db-4162-fb30-2bc1c7acf563"
      },
      "execution_count": 10,
      "outputs": [
        {
          "output_type": "stream",
          "name": "stdout",
          "text": [
            "3 3\n",
            "1 0 2\n",
            "0 0 0\n",
            "3 0 0\n",
            "1 2 2\n",
            "1위치 : 0 0\n",
            "1번식 시작\n",
            "0 1\n",
            "1 0\n",
            "[[1, 1, 2], [1, 0, 0], [3, 0, 0]]\n",
            "2위치 : 0 2\n",
            "2번식 시작\n",
            "1 2\n",
            "[[1, 1, 2], [1, 0, 2], [3, 0, 0]]\n",
            "3위치 : 2 0\n",
            "3번식 시작\n",
            "2 1\n",
            "[[1, 1, 2], [1, 0, 2], [3, 3, 0]]\n",
            "0\n"
          ]
        }
      ]
    },
    {
      "cell_type": "markdown",
      "source": [
        "### 책 답안 : bfs 사용"
      ],
      "metadata": {
        "id": "WaCz1d2Onfjf"
      }
    },
    {
      "cell_type": "code",
      "source": [
        "from collections import deque\n",
        "\n",
        "n, k = map(int, input().split())\n",
        "\n",
        "graph = [] # 전체 보드 정보를 담는 리스트\n",
        "data = [] # 바이러스에 대한 정보를 담는 리스트\n",
        "\n",
        "for i in range(n):\n",
        "    # 보드 정보를 한 줄 단위로 입력\n",
        "    graph.append(list(map(int, input().split())))\n",
        "    for j in range(n):\n",
        "        # 해당 위치에 바이러스가 존재하는 경우\n",
        "        if graph[i][j] != 0:\n",
        "            # (바이러스 종류, 시간, 위치 X, 위치 Y) 삽입\n",
        "            data.append((graph[i][j], 0, i, j))\n",
        "\n",
        "# 정렬 이후에 큐로 옮기기 (낮은 번호의 바이러스가 먼저 증식하므로)\n",
        "data.sort()\n",
        "q = deque(data)\n",
        " \n",
        "target_s, target_x, target_y = map(int, input().split())\n",
        " \n",
        "# 바이러스가 퍼져나갈 수 있는 4가지의 위치\n",
        "dx = [-1, 0, 1, 0]\n",
        "dy = [0, 1, 0, -1]\n",
        "\n",
        "# 너비 우선 탐색(BFS) 진행\n",
        "while q:\n",
        "    virus, s, x, y = q.popleft()\n",
        "    # 정확히 s초가 지나거나, 큐가 빌 때까지 반복\n",
        "    if s == target_s:\n",
        "        break\n",
        "    # 현재 노드에서 주변 4가지 위치를 각각 확인\n",
        "    for i in range(4):\n",
        "        nx = x + dx[i]\n",
        "        ny = y + dy[i]\n",
        "        # 해당 위치로 이동할 수 있는 경우\n",
        "        if 0 <= nx and nx < n and 0 <= ny and ny < n:\n",
        "            # 아직 방문하지 않은 위치라면, 그 위치에 바이러스 넣기\n",
        "            if graph[nx][ny] == 0:\n",
        "                graph[nx][ny] = virus\n",
        "                q.append((virus, s + 1, nx, ny))\n",
        "\n",
        "print(graph[target_x - 1][target_y - 1])"
      ],
      "metadata": {
        "id": "qK_HIBxGnTfa"
      },
      "execution_count": null,
      "outputs": []
    },
    {
      "cell_type": "markdown",
      "source": [
        "* 나는 바이러스를 찾을 때 모든 바이러스 번호가 graph에 존재하는지 일일이 탐색했는데 여기서는 바이러스가 존재하면 리스트에 담고 그것을 정렬하여 큐에 집어넣었다. 이것 자체가 어쨋든 바이러스 번호가 낮은 순으로 탐색을 하는 것이고 이게 탐색할 때 훨씬 빠를듯"
      ],
      "metadata": {
        "id": "fPR3vCJjazL5"
      }
    },
    {
      "cell_type": "markdown",
      "source": [
        "## 괄호 변환 : 해결 o (40분)"
      ],
      "metadata": {
        "id": "p-mdq-xnng28"
      }
    },
    {
      "cell_type": "code",
      "source": [
        "def check_correct(p):\n",
        "    l_stack = []\n",
        "    for i in p:\n",
        "        if i == '(':\n",
        "            l_stack.append(i)\n",
        "        else:\n",
        "            try:\n",
        "                l_stack.pop()\n",
        "            except:\n",
        "                return 0 \n",
        "    return 1\n",
        "\n",
        "def solution(p):\n",
        "    if check_correct(p): # 이미 올바른 괄호 문자열이라면\n",
        "        return p\n",
        "    # 올바른 괄호 문자열 아닐경우\n",
        "    stack = []\n",
        "    for i in range(len(p)):\n",
        "        stack.append(p[i])\n",
        "        if stack.count('(') == stack.count(')'):\n",
        "            sep = i\n",
        "            break\n",
        "    u = p[:i+1]\n",
        "    v = p[i+1:]\n",
        "    if check_correct(u):\n",
        "        return u + solution(v)\n",
        "    else:\n",
        "        t_u = u[1:-1]\n",
        "        print(t_u)\n",
        "        if t_u != '':\n",
        "            t_u = t_u.replace('(', '1')\n",
        "            t_u = t_u.replace(')', '(')\n",
        "            t_u = t_u.replace('1', ')') \n",
        "        return '(' + solution(v) + ')' + t_u"
      ],
      "metadata": {
        "id": "Fbpb7cU2nTjW"
      },
      "execution_count": null,
      "outputs": []
    },
    {
      "cell_type": "markdown",
      "source": [
        "### 책 답안"
      ],
      "metadata": {
        "id": "jIE7yBFfnj5Z"
      }
    },
    {
      "cell_type": "code",
      "source": [
        "# \"균형잡힌 괄호 문자열\"의 인덱스 반환\n",
        "def balanced_index(p):\n",
        "    count = 0 # 왼쪽 괄호의 개수\n",
        "    for i in range(len(p)):\n",
        "        if p[i] == '(':\n",
        "            count += 1\n",
        "        else:\n",
        "            count -= 1\n",
        "        if count == 0:\n",
        "            return i\n",
        "\n",
        "# \"올바른 괄호 문자열\"인지 판단\n",
        "def check_proper(p):\n",
        "    count = 0 # 왼쪽 괄호의 개수\n",
        "    for i in p:\n",
        "        if i == '(':\n",
        "            count += 1\n",
        "        else:\n",
        "            if count == 0: # 쌍이 맞지 않는 경우에 False 반환\n",
        "                return False\n",
        "            count -= 1\n",
        "    return True # 쌍이 맞는 경우에 True 반환\n",
        "\n",
        "def solution(p):\n",
        "    answer = ''\n",
        "    if p == '':\n",
        "        return answer\n",
        "    index = balanced_index(p)\n",
        "    u = p[:index + 1]\n",
        "    v = p[index + 1:]\n",
        "    # \"올바른 괄호 문자열\"이면, v에 대해 함수를 수행한 결과를 붙여 반환\n",
        "    if check_proper(u):\n",
        "        answer = u + solution(v)\n",
        "    # \"올바른 괄호 문자열\"이 아니라면 아래의 과정을 수행\n",
        "    else:\n",
        "        answer = '('\n",
        "        answer += solution(v)\n",
        "        answer += ')'\n",
        "        u = list(u[1:-1]) # 첫 번째와 마지막 문자를 제거\n",
        "        for i in range(len(u)):\n",
        "            if u[i] == '(':\n",
        "                u[i] = ')'\n",
        "            else:\n",
        "                u[i] = '('\n",
        "        answer += \"\".join(u)\n",
        "    return answer"
      ],
      "metadata": {
        "id": "CN5fDtlYnk2X"
      },
      "execution_count": null,
      "outputs": []
    },
    {
      "cell_type": "markdown",
      "source": [
        "나는 스택을 사용하여 올바른 괄호 문자열, 균형잡힌 괄호 문자열을 판별했는데 굳이 스택을 사용하지 않고 for if문을 사용하여 직접 괄호 개수를 세서 하는 것이 좋겠다."
      ],
      "metadata": {
        "id": "V4b6gvK2YKsr"
      }
    },
    {
      "cell_type": "code",
      "source": [
        ""
      ],
      "metadata": {
        "id": "JDze2Ddunk8t"
      },
      "execution_count": null,
      "outputs": []
    },
    {
      "cell_type": "code",
      "source": [
        ""
      ],
      "metadata": {
        "id": "2pkxv4JqnlCW"
      },
      "execution_count": null,
      "outputs": []
    }
  ]
}