{
  "nbformat": 4,
  "nbformat_minor": 0,
  "metadata": {
    "colab": {
      "name": "chap3, 11_그리디.ipynb",
      "provenance": [],
      "authorship_tag": "ABX9TyN5v0VAOeqF4Dxd+cfVx7x2",
      "include_colab_link": true
    },
    "kernelspec": {
      "name": "python3",
      "display_name": "Python 3"
    },
    "language_info": {
      "name": "python"
    },
    "gpuClass": "standard"
  },
  "cells": [
    {
      "cell_type": "markdown",
      "metadata": {
        "id": "view-in-github",
        "colab_type": "text"
      },
      "source": [
        "<a href=\"https://colab.research.google.com/github/s2ul2/This-is-coding-test-with-Python/blob/main/chap3%2C_11_%EA%B7%B8%EB%A6%AC%EB%94%94.ipynb\" target=\"_parent\"><img src=\"https://colab.research.google.com/assets/colab-badge.svg\" alt=\"Open In Colab\"/></a>"
      ]
    },
    {
      "cell_type": "markdown",
      "source": [
        "## 큰수의 법칙 : 해결O (25분)"
      ],
      "metadata": {
        "id": "rNc97pY4mBhb"
      }
    },
    {
      "cell_type": "code",
      "execution_count": null,
      "metadata": {
        "id": "5gXZK3jZl3cF"
      },
      "outputs": [],
      "source": [
        "def solution(N, M, K):\n",
        "    len_N = len(N)\n",
        "    sort_N = sorted(N, reverse = True)\n",
        "    sum = 0\n",
        "    m = 0\n",
        "    isbreak = 0\n",
        "    while 1:\n",
        "        for k in range(K): # k번 반복\n",
        "            sum += sort_N[0]\n",
        "            m+= 1\n",
        "            if m >= M:\n",
        "                isbreak = 1\n",
        "                break # for문 break\n",
        "        if isbreak == 1:\n",
        "            break # while문 break\n",
        "        sum += sort_N[1]\n",
        "        m+= 1\n",
        "        if m >= M:\n",
        "            break # while문 break            \n",
        "    return sum\n"
      ]
    },
    {
      "cell_type": "code",
      "source": [
        "M, K = 7, 2\n",
        "N = [3, 4, 3, 4, 3]\n",
        "solution(N, M, K)"
      ],
      "metadata": {
        "colab": {
          "base_uri": "https://localhost:8080/"
        },
        "id": "2LR1sTnuw_6k",
        "outputId": "d06df373-0cb0-4f92-e091-1ad5d8c022ce"
      },
      "execution_count": null,
      "outputs": [
        {
          "output_type": "execute_result",
          "data": {
            "text/plain": [
              "28"
            ]
          },
          "metadata": {},
          "execution_count": 17
        }
      ]
    },
    {
      "cell_type": "markdown",
      "source": [
        "### 책 답안"
      ],
      "metadata": {
        "id": "swfG4JPa7U2y"
      }
    },
    {
      "cell_type": "code",
      "source": [
        "# N, M, K를 공백을 기준으로 구분하여 입력 받기\n",
        "n, m, k = map(int, input().split())\n",
        "# N개의 수를 공백을 기준으로 구분하여 입력 받기\n",
        "data = list(map(int, input().split()))\n",
        "\n",
        "data.sort() # 입력 받은 수들 정렬하기\n",
        "first = data[n - 1] # 가장 큰 수\n",
        "second = data[n - 2] # 두 번째로 큰 수\n",
        "\n",
        "# 가장 큰 수가 더해지는 횟수 계산\n",
        "count = int(m / (k + 1)) * k\n",
        "count += m % (k + 1)\n",
        "\n",
        "result = 0\n",
        "result += (count) * first # 가장 큰 수 더하기\n",
        "result += (m - count) * second # 두 번째로 큰 수 더하기\n",
        "\n",
        "print(result) # 최종 답안 출력"
      ],
      "metadata": {
        "id": "wkWki1g8w__c"
      },
      "execution_count": null,
      "outputs": []
    },
    {
      "cell_type": "markdown",
      "source": [
        "## 숫자 카드 게임 : 해결 O (13분)"
      ],
      "metadata": {
        "id": "YzzLKdGhmEER"
      }
    },
    {
      "cell_type": "code",
      "source": [
        "def solution(x):\n",
        "    n = x[0] # 행\n",
        "    m = x[1] # 열\n",
        "    idx = 1\n",
        "    out_lst = []\n",
        "    for i in range(n):\n",
        "        inner_lst = []\n",
        "        for j in range(m):\n",
        "            idx += 1\n",
        "            inner_lst.append(x[idx])\n",
        "        out_lst.append(inner_lst)\n",
        "    return max(list(map(lambda x: min(x), out_lst)))\n",
        "\n",
        "\n",
        "        \n"
      ],
      "metadata": {
        "id": "xRkq2iX9mIhe"
      },
      "execution_count": null,
      "outputs": []
    },
    {
      "cell_type": "code",
      "source": [
        "x = [2, 4,\n",
        "     7, 3, 1, 8,\n",
        "     3, 3, 3, 4]\n",
        "solution(x)"
      ],
      "metadata": {
        "colab": {
          "base_uri": "https://localhost:8080/"
        },
        "id": "l33SNNyzpMdJ",
        "outputId": "37deb17b-6032-451a-84dd-a054a2dd911b"
      },
      "execution_count": null,
      "outputs": [
        {
          "output_type": "execute_result",
          "data": {
            "text/plain": [
              "3"
            ]
          },
          "metadata": {},
          "execution_count": 11
        }
      ]
    },
    {
      "cell_type": "markdown",
      "source": [
        "### 책 답안 : 나랑 입력하는 방법이 다름"
      ],
      "metadata": {
        "id": "tv3K_r8OtzUc"
      }
    },
    {
      "cell_type": "code",
      "source": [
        "# N, M을 공백을 기준으로 구분하여 입력 받기\n",
        "n, m = map(int, input().split())\n",
        "\n",
        "result = 0\n",
        "# 한 줄씩 입력 받아 확인하기\n",
        "for i in range(n):\n",
        "    data = list(map(int, input().split()))\n",
        "    # 현재 줄에서 '가장 작은 수' 찾기\n",
        "    min_value = 10001\n",
        "    for a in data:\n",
        "        min_value = min(min_value, a)\n",
        "    # '가장 작은 수'들 중에서 가장 큰 수 찾기\n",
        "    result = max(result, min_value)\n",
        "\n",
        "print(result) # 최종 답안 출력"
      ],
      "metadata": {
        "colab": {
          "base_uri": "https://localhost:8080/"
        },
        "id": "bk9bS48CtlzE",
        "outputId": "432c35e9-eb9b-49f1-9e62-ab39ed698856"
      },
      "execution_count": null,
      "outputs": [
        {
          "output_type": "stream",
          "name": "stdout",
          "text": [
            "2 4\n",
            "7 3 1 8\n",
            "3 3 3 4\n",
            "3\n"
          ]
        }
      ]
    },
    {
      "cell_type": "markdown",
      "source": [
        "## 1이 될 때까지 : 해결 o (7분)"
      ],
      "metadata": {
        "id": "sxmQzmqymG4m"
      }
    },
    {
      "cell_type": "code",
      "source": [
        "# n이 K로 나눠떨어지면 무조건 2번과정\n",
        "n, k = map(int, input().split())\n",
        "cnt = 0\n",
        "while n != 1:\n",
        "    if n % k == 0:\n",
        "        n /= k\n",
        "        cnt += 1\n",
        "    else:\n",
        "        n -= 1\n",
        "        cnt += 1\n",
        "print(cnt)"
      ],
      "metadata": {
        "colab": {
          "base_uri": "https://localhost:8080/"
        },
        "id": "jMstMmgQmJA0",
        "outputId": "39a5781b-2d43-49ac-b5fb-cb72c13327c9"
      },
      "execution_count": null,
      "outputs": [
        {
          "output_type": "stream",
          "name": "stdout",
          "text": [
            "25 3\n",
            "6\n"
          ]
        }
      ]
    },
    {
      "cell_type": "markdown",
      "source": [
        "### 책 답안"
      ],
      "metadata": {
        "id": "HYG8NMq5ugKK"
      }
    },
    {
      "cell_type": "code",
      "source": [
        "# N, K공백을 기준으로 구분하여 입력 받기\n",
        "n, k = map(int, input().split())\n",
        "\n",
        "result = 0\n",
        "\n",
        "while True:\n",
        "    # N이 K로 나누어 떨어지는 수가 될 때까지만 1씩 빼기\n",
        "    target = (n // k) * k\n",
        "    result += (n - target)\n",
        "    n = target\n",
        "    # N이 K보다 작을 때 (더 이상 나눌 수 없을 때) 반복문 탈출\n",
        "    if n < k:\n",
        "        break\n",
        "    # K로 나누기\n",
        "    result += 1\n",
        "    n //= k\n",
        "\n",
        "# 마지막으로 남은 수에 대하여 1씩 빼기\n",
        "result += (n - 1)\n",
        "print(result)"
      ],
      "metadata": {
        "id": "In-ukKqLuffc"
      },
      "execution_count": null,
      "outputs": []
    },
    {
      "cell_type": "markdown",
      "source": [
        "# Chap 11"
      ],
      "metadata": {
        "id": "TR7zU_8-zBTf"
      }
    },
    {
      "cell_type": "markdown",
      "source": [
        "## 모험가 길드 : 못풂... Counter 이용하려고 했지만 실패"
      ],
      "metadata": {
        "id": "mvGj4gztzyyS"
      }
    },
    {
      "cell_type": "markdown",
      "source": [
        "### 책 답안"
      ],
      "metadata": {
        "id": "i85LTR5Sz3Sn"
      }
    },
    {
      "cell_type": "code",
      "source": [
        "n = int(input())\n",
        "data = list(map(int, input().split()))\n",
        "data.sort() # 정렬\n",
        "\n",
        "result = 0 # 총 그룹의 수\n",
        "count = 0 # 현재 그룹에 포함된 모험가의 수\n",
        "\n",
        "for i in data: # 공포도를 낮은 것부터 하나씩 확인하며\n",
        "    count += 1 # 현재 그룹에 해당 모험가를 포함시키기\n",
        "    if count >= i: # 현재 그룹에 포함된 모험가의 수가 현재의 공포도 이상이라면, 그룹 결성\n",
        "        result += 1 # 총 그룹의 수 증가시키기\n",
        "        count = 0 # 현재 그룹에 포함된 모험가의 수 초기화\n",
        "\n",
        "print(result) # 총 그룹의 수 출력"
      ],
      "metadata": {
        "id": "SXUcxjbzKLJ8"
      },
      "execution_count": null,
      "outputs": []
    },
    {
      "cell_type": "markdown",
      "source": [
        "* <현재 그룹에 포함된 모험가의 수>가 <현재 확인하고 있는 공포도> 보다 크거나 같다면 이를 그룹으로 설정.\n",
        "* 이 방법을 이용하면 공포도가 오름차순으로 정렬되어 있다는 점에서, 항상 최소한의 모험가의 수만 포함하여 그룹 결성"
      ],
      "metadata": {
        "id": "qzpNOBzeXSwQ"
      }
    },
    {
      "cell_type": "markdown",
      "source": [
        "## 곱하기 혹은 더하기 : 틀림\n",
        "* 놓친부분 : 두 수중 하나가 1일 경우에도 더하기가 유리함."
      ],
      "metadata": {
        "id": "z05tIE5Az5Vf"
      }
    },
    {
      "cell_type": "code",
      "source": [
        "n_str = input()\n",
        "result = int(n_str[0])\n",
        "for n in n_str[1:]:\n",
        "    if result == 0:\n",
        "        result += int(n)\n",
        "    else:\n",
        "        result *= int(n)\n",
        "print(result)\n",
        "\n"
      ],
      "metadata": {
        "colab": {
          "base_uri": "https://localhost:8080/"
        },
        "id": "hFeCQ6Ma2Kkq",
        "outputId": "2238c0ea-8279-48af-8b47-043055df57bf"
      },
      "execution_count": null,
      "outputs": [
        {
          "output_type": "stream",
          "name": "stdout",
          "text": [
            "567\n",
            "210\n"
          ]
        }
      ]
    },
    {
      "cell_type": "markdown",
      "source": [
        "### 2차 풀이(정답) == 책 풀이"
      ],
      "metadata": {
        "id": "vn3pM3wTetY5"
      }
    },
    {
      "cell_type": "code",
      "source": [
        "n_str = input()\n",
        "result = int(n_str[0])\n",
        "for n in n_str[1:]:\n",
        "    if (result in [0, 1]) or (n in [0, 1]):\n",
        "        result += int(n)\n",
        "    else:\n",
        "        result *= int(n)\n",
        "print(result)\n",
        "\n"
      ],
      "metadata": {
        "colab": {
          "base_uri": "https://localhost:8080/"
        },
        "id": "ZtO344TuWjcq",
        "outputId": "aa7a0381-6555-44a3-de4b-983ab2d1cf0a"
      },
      "execution_count": null,
      "outputs": [
        {
          "output_type": "stream",
          "name": "stdout",
          "text": [
            "10123\n",
            "12\n"
          ]
        }
      ]
    },
    {
      "cell_type": "markdown",
      "source": [
        "## 문자열 뒤집기 : 해결o (시간초과, 32분)"
      ],
      "metadata": {
        "id": "59iUSLz9z_IN"
      }
    },
    {
      "cell_type": "code",
      "source": [
        "s = input()\n",
        "cnt = 0\n",
        "# while 1:\n",
        "#     if s == ('0' * len(s)) or ('1' * len(s)):\n",
        "#         break\n",
        "#     else:\n",
        "cnt_0 = s.count('0')\n",
        "cnt_1 = s.count('1')\n",
        "if cnt_0 >= cnt_1: # 0의 개수가 더 많은 경우 -> 1의 위치를 찾음 -> 1을 0으로 바꿈\n",
        "    last_index = s.find('1') # 1의 위치 찾기 (현재 위치)\n",
        "    for i in range(cnt_1):\n",
        "        idx_1  = s.find('1', last_index + 1) \n",
        "        if last_index + 1 != idx_1: # 1이 이어져 있지 않는 경우\n",
        "            cnt += 1\n",
        "        last_index = idx_1\n",
        "\n",
        "else:\n",
        "    last_index = s.find('0') # 0의 위치 찾기 (현재 위치)\n",
        "    for i in range(cnt_0):\n",
        "        idx_0  = s.find('0', last_index + 1) \n",
        "        if last_index + 1 == idx_0: # 0이 이어져 있는 경우 cnt는 하나로 침.\n",
        "            pass\n",
        "        else:\n",
        "            cnt += 1\n",
        "        last_index = idx_0\n",
        "print(cnt)"
      ],
      "metadata": {
        "colab": {
          "base_uri": "https://localhost:8080/"
        },
        "id": "bfS_IdtyfvJ3",
        "outputId": "2d6294a7-f82a-4c5b-f03f-a71235330b85"
      },
      "execution_count": null,
      "outputs": [
        {
          "output_type": "stream",
          "name": "stdout",
          "text": [
            "0001100\n",
            "1\n"
          ]
        }
      ]
    },
    {
      "cell_type": "markdown",
      "source": [
        "### 책 답안"
      ],
      "metadata": {
        "id": "iCS5a_U_z_ic"
      }
    },
    {
      "cell_type": "code",
      "source": [
        "\n",
        "data = input()\n",
        "count0 = 0 # 전부 0으로 바꾸는 경우\n",
        "count1 = 0 # 전부 1로 바꾸는 경우\n",
        "\n",
        "# 첫 번째 원소에 대해서 처리\n",
        "if data[0] == '1':\n",
        "    count0 += 1\n",
        "else:\n",
        "    count1 += 1\n",
        "\n",
        "# 두 번째 원소부터 모든 원소를 확인하며\n",
        "for i in range(len(data) - 1):\n",
        "    if data[i] != data[i + 1]:\n",
        "        # 다음 수에서 1로 바뀌는 경우\n",
        "        if data[i + 1] == '1':\n",
        "            count0 += 1\n",
        "        # 다음 수에서 0으로 바뀌는 경우\n",
        "        else:\n",
        "            count1 += 1\n",
        "\n",
        "print(min(count0, count1))"
      ],
      "metadata": {
        "id": "PYafu_8bqL6M"
      },
      "execution_count": null,
      "outputs": []
    },
    {
      "cell_type": "markdown",
      "source": [
        "* 전부 0으로 바꾸는 경우와 전부 1로 바꾸는 경우 둘다 모두 구한 후 둘 중 적은 횟수를 가지는 경우를 계산\n",
        "* 문자열이 연속되었는지 확인하는 방법은 그냥 data[i] != data[i + 1]이걸로 가능,,,, 난 너무 어렵게 생각했다."
      ],
      "metadata": {
        "id": "nOCOQcUYqM97"
      }
    },
    {
      "cell_type": "markdown",
      "source": [
        "## 만들 수 없는 금액 : 해결 o (23분)"
      ],
      "metadata": {
        "id": "sgAX71nhz_1s"
      }
    },
    {
      "cell_type": "code",
      "source": [
        "from itertools import combinations as cb\n",
        "\n",
        "n = int(input())\n",
        "coins = list(map(int, input().split()))\n",
        "total = sum(coins)\n",
        "s_total = set(i for i in range(1, total+2))  # 2를 더하는 이유 : 숫자들의 합을 다 만들 수 있는 경우에는 숫자들의 합 + 1을 return 해야함 ex) 1,1,2,5,9 -> 총합 : 18, 18이하의 모든 숫자를 만들 수 있음 --> 19 return\n",
        "\n",
        "for i in range(1, n+1):\n",
        "    cb_temp = cb(coins, i)\n",
        "    s_temp = set(map(sum, cb_temp))\n",
        "    s_total -= s_temp\n",
        "min(s_total)"
      ],
      "metadata": {
        "colab": {
          "base_uri": "https://localhost:8080/"
        },
        "id": "FMYTLt6MrU1c",
        "outputId": "eb206561-e964-49e7-f4d8-3e242567e7a1"
      },
      "execution_count": null,
      "outputs": [
        {
          "name": "stdout",
          "output_type": "stream",
          "text": [
            "5\n",
            "1 1 2 5 9\n"
          ]
        },
        {
          "output_type": "execute_result",
          "data": {
            "text/plain": [
              "19"
            ]
          },
          "metadata": {},
          "execution_count": 103
        }
      ]
    },
    {
      "cell_type": "markdown",
      "source": [
        "### 책 답안 : 해설(p.509)"
      ],
      "metadata": {
        "id": "sAAG_Q_i0ATQ"
      }
    },
    {
      "cell_type": "code",
      "source": [
        "n = int(input())\n",
        "data = list(map(int, input().split()))\n",
        "data.sort()\n",
        "\n",
        "target = 1\n",
        "for x in data:\n",
        "    # 만들 수 없는 금액을 찾았을 때 반복 종료\n",
        "    if target < x:\n",
        "        break\n",
        "    target += x\n",
        "\n",
        "# 만들 수 없는 금액 출력\n",
        "print(target)"
      ],
      "metadata": {
        "id": "rA4Il0uCrWYe"
      },
      "execution_count": null,
      "outputs": []
    },
    {
      "cell_type": "markdown",
      "source": [
        "* target : 현재 확인하는 동전을 사용하여 target 금액을 만들 수 있는가?\n",
        "* 현재 상태 : <1부터 target - 1 까지의 모든 금액을 만들 수 있는 상태> 라고 가정\n",
        "\n",
        "--> 현재 확인하는 동전의 단위가 target 이하인 경우 (즉 target값을 만들 수 있음) --> <1부터 target - 1 + 현재 확인하는 동전 금액> 까지 만들 수 있음. 그리고 이 값 <target + 현재확인하는동전금액> 을 새로운 target으로 업데이트\n",
        "\n",
        "ex) 현재 상태 : 1부터 3까지 모든 금액을 만들 수 있는 상태 라고 가정 \n",
        "\n",
        "현재 확인하는 동전의 단위가 4원일 때 target 값인 4원을 만들 수 있을까?\n",
        "\n",
        "--> 4원 단독으로 사용하면 target 만들 수 있음\n",
        "\n",
        "현재 확인하는 동전의 단위가 4원보다 작을 때(ex: 3원) target 값인 4원을 만들 수 있을까?\n",
        "\n",
        "--> 현재 상태가 1부터 3까지 모든 금액을 만들 수 있으므로 1원 + 3원(현재 화인하는 동전) = 4원을 만들 수 있다. \n",
        "\n",
        "--> 만들 수 있는 총 금액 : 1부터 3 + 현재 확인하는 동전 금액(3원) = 1부터 6원 가능 --> target값 7로 업데이트"
      ],
      "metadata": {
        "id": "-yS7iL6Y0tgD"
      }
    },
    {
      "cell_type": "markdown",
      "source": [
        "## 볼링공 고르기 : 해결 o (13분 45초)"
      ],
      "metadata": {
        "id": "tYkY3anV0ArH"
      }
    },
    {
      "cell_type": "code",
      "source": [
        "n, m = map(int, input().split())\n",
        "ball_lst = list(map(int, input().split()))\n",
        "sort_ball = sorted(ball_lst)\n",
        "cnt = 0\n",
        "for i in range(n-1): # i = 0일 때 -> j = 1 ~ n-1, i = 1일때 -> j = 2 ~ n-1\n",
        "    if sort_ball[i] != sort_ball[i+1]: # i번째랑 i+1번째 값이 다르면 i+1째 이후의 값이랑 모두 다름 --> 비교할 필요 없음\n",
        "        print(n-i-1)\n",
        "        cnt += (n - i - 1)\n",
        "        continue\n",
        "     # i번째랑 i+1번째 값이 같으면 i+1째 이후의 값이랑 모두 비교해야함.\n",
        "    for j in range(i+1, n):\n",
        "        if sort_ball[i] != sort_ball[j]:\n",
        "            cnt += 1\n",
        "print(cnt)\n",
        "\n"
      ],
      "metadata": {
        "id": "nzmtAreHrVie",
        "colab": {
          "base_uri": "https://localhost:8080/"
        },
        "outputId": "00c26494-34e8-48b4-d92b-a8d5f7fecaa8"
      },
      "execution_count": 7,
      "outputs": [
        {
          "output_type": "stream",
          "name": "stdout",
          "text": [
            "8 5\n",
            "1 5 4 3 2 4 5 2\n",
            "7\n",
            "5\n",
            "4\n",
            "2\n",
            "25\n"
          ]
        }
      ]
    },
    {
      "cell_type": "markdown",
      "source": [
        "### 책 답안"
      ],
      "metadata": {
        "id": "zMrNdNAw0A-O"
      }
    },
    {
      "cell_type": "code",
      "source": [
        "n, m = map(int, input().split())\n",
        "data = list(map(int, input().split()))\n",
        "\n",
        "# 1부터 10까지의 볼링공 무게를 담을 수 있는 리스트\n",
        "array = [0] * 11\n",
        "\n",
        "for x in data:\n",
        "    # 각 무게에 해당하는 볼링공의 개수 카운트\n",
        "    array[x] += 1\n",
        "\n",
        "result = 0\n",
        "# 1부터 m까지의 각 무게에 대하여 처리\n",
        "for i in range(1, m + 1):\n",
        "    n -= array[i] # n : B가 볼링공 선택할 수 있는 경우의 수, 무게가 i인 볼링공의 개수(A가 선택할 수 있는 개수) 빼서 구할 수 있음.\n",
        "    result += array[i] * n # array[i] : A가 무게가 i인 볼링공 선택하는 경우의 수 ,n : B가 선택하는 경우의 수 --> array[i]와 n 곱해주기\n",
        "\n",
        "print(result)"
      ],
      "metadata": {
        "colab": {
          "base_uri": "https://localhost:8080/"
        },
        "id": "3LLfamHGHJcg",
        "outputId": "2cafa5b7-f300-4332-85e9-35c8b5a22fbf"
      },
      "execution_count": 8,
      "outputs": [
        {
          "output_type": "stream",
          "name": "stdout",
          "text": [
            "5 3\n",
            "1 3 2 3 2\n",
            "8\n"
          ]
        }
      ]
    },
    {
      "cell_type": "markdown",
      "source": [
        "1. 먼저 무게마다 볼링공이 몇개 있는지 계산\n",
        "- 무게가 1인 볼링공 : 1개\n",
        "- 무게가 2인 볼링공 : 2개\n",
        "- 무게가 3인 볼링공 : 2개\n",
        "2. A가 특정 무게의 볼링공 선택했을 때, B가 볼링공을 선택하는 경우를 계산\n",
        "- A가 무게가 1인 볼링공 선택할 때 경우의수 : 1(무게가 1인 공의 개수) * 4 (B가 선택하는 경우의 수) = 4\n",
        "- A가 무게가 2인 볼링공 선택할 때 경우의수 : 2(무게가 2인 공의 개수) * 2(B가 선택하는 경우의 수) = 4\n",
        "- A가 무게가 3인 볼링공 선택할 때 경우의수 : 2(무게가 3인 공의 개수) * 0 (B가 선택하는 경우의 수) = 0\n",
        "\n",
        "--> 총 8가지"
      ],
      "metadata": {
        "id": "s_BLP5afHK-1"
      }
    },
    {
      "cell_type": "markdown",
      "source": [
        "### 무지의 먹방 라이브 : 못풂,,"
      ],
      "metadata": {
        "id": "t3yZVk_a0BVm"
      }
    },
    {
      "cell_type": "code",
      "source": [
        "import heapq\n",
        "\n",
        "def solution(food_times, k):\n",
        "    q = []\n",
        "    if sum(food_times) <= k:\n",
        "        return -1\n",
        "    for food_idx, time in enumerate(food_times):\n",
        "        heapq.heappush(q, (time, food_idx+1))\n",
        "    \n",
        "    sum_val = 0 # 걸린 시간 총합\n",
        "    previous = 0 \n",
        "    length = len(food_times) # 0이 아닌 음식 개수\n",
        "    while 1:\n",
        "        if length * (q[0][0] - previous) <= k - sum_val:\n",
        "            sum_val += (length * (q - previous))\n",
        "            previous = heapq[0][0]\n",
        "            length -= 1 # 하나의 음식을 다 먹었으므로\n",
        "            heapq.heappop(q)\n",
        "        else:\n",
        "            break\n",
        "    sorted_lst = sorted(q, key = lambda x : x[1])\n",
        "    return sorted_lst[(k - sum_val) % length][1]   \n",
        "    \n",
        "        \n",
        "    "
      ],
      "metadata": {
        "id": "Dfya8W54IbdS"
      },
      "execution_count": null,
      "outputs": []
    },
    {
      "cell_type": "markdown",
      "source": [
        "### 책 답안 : 우선순위 큐 사용"
      ],
      "metadata": {
        "id": "OWeqB0pn0CZ5"
      }
    },
    {
      "cell_type": "code",
      "source": [
        "import heapq\n",
        "\n",
        "def solution(food_times, k):\n",
        "    # 전체 음식을 먹는 시간보다 k가 크거나 같다면 -1\n",
        "    if sum(food_times) <= k:\n",
        "        return -1\n",
        "\n",
        "    # 시간이 작은 음식부터 빼야 하므로 우선순위 큐를 이용\n",
        "    q = []\n",
        "    for i in range(len(food_times)):\n",
        "        # (음식 시간, 음식 번호) 형태로 우선순위 큐에 삽입\n",
        "        heapq.heappush(q, (food_times[i], i + 1))  \n",
        "\n",
        "    sum_value = 0 # 먹기 위해 사용한 시간\n",
        "    previous = 0 # 직전에 다 먹은 음식 시간\n",
        "    length = len(food_times) # 남은 음식의 개수\n",
        "\n",
        "    # sum_value + (현재의 음식 시간 : q[0][0] - 이전 음식 시간 : previous) * 현재 음식 개수 : length 와 k 비교\n",
        "    while sum_value + ((q[0][0] - previous) * length) <= k:\n",
        "        now = heapq.heappop(q)[0]\n",
        "        sum_value += (now - previous) * length\n",
        "        length -= 1 # 다 먹은 음식 제외\n",
        "        previous = now # 이전 음식 시간 재설정\n",
        "\n",
        "    # 남은 음식 중에서 몇 번째 음식인지 확인하여 출력\n",
        "    result = sorted(q, key=lambda x: x[1]) # 음식의 번호 기준으로 정렬\n",
        "    return result[(k - sum_value) % length][1]"
      ],
      "metadata": {
        "id": "Xt6ElKCFiJ4l"
      },
      "execution_count": null,
      "outputs": []
    },
    {
      "cell_type": "markdown",
      "source": [
        "시간이 적게 걸리는 음식부터 제거해 나가는 방식."
      ],
      "metadata": {
        "id": "Ty8qG9hZ0B_z"
      }
    }
  ]
}