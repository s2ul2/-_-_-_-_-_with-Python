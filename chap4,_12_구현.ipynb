{
  "nbformat": 4,
  "nbformat_minor": 0,
  "metadata": {
    "colab": {
      "name": "chap4, 12 구현.ipynb",
      "provenance": [],
      "collapsed_sections": [],
      "authorship_tag": "ABX9TyNxJ0twcrsEuqg+anPDLDSW",
      "include_colab_link": true
    },
    "kernelspec": {
      "name": "python3",
      "display_name": "Python 3"
    },
    "language_info": {
      "name": "python"
    },
    "gpuClass": "standard"
  },
  "cells": [
    {
      "cell_type": "markdown",
      "metadata": {
        "id": "view-in-github",
        "colab_type": "text"
      },
      "source": [
        "<a href=\"https://colab.research.google.com/github/s2ul2/This-is-coding-test-with-Python/blob/main/chap4%2C_12_%EA%B5%AC%ED%98%84.ipynb\" target=\"_parent\"><img src=\"https://colab.research.google.com/assets/colab-badge.svg\" alt=\"Open In Colab\"/></a>"
      ]
    },
    {
      "cell_type": "markdown",
      "source": [
        "# Chap4"
      ],
      "metadata": {
        "id": "Di0iWTC5kriu"
      }
    },
    {
      "cell_type": "markdown",
      "source": [
        "## 상하좌우 : 해결 O (21분, 오류 나서,, 시간 초가됨) "
      ],
      "metadata": {
        "id": "pu6YskYPlTbz"
      }
    },
    {
      "cell_type": "code",
      "source": [
        "n = int(input())\n",
        "# n * n 행렬 생성\n",
        "\n",
        "# 서 L, 동 R, 북 U, 남 D \n",
        "dir = dict({'L' : 0, 'R' : 1, 'U' : 2, 'D' : 3})\n",
        "dx = [-1, 1, 0, 0] \n",
        "dy = [0, 0, -1, 1]\n",
        "x, y = 1, 1\n",
        "\n",
        "lst = input().split()\n",
        "\n",
        "for i in lst:\n",
        "    temp_x = x + dx[dir[i]]\n",
        "    temp_y = y + dy[dir[i]]\n",
        "    if temp_x >= 1 and temp_x <= n:\n",
        "        x = temp_x\n",
        "    if temp_y >= 1 and temp_y <= n:\n",
        "        y = temp_y\n",
        "    print(y,x)\n",
        "print(y,x)"
      ],
      "metadata": {
        "colab": {
          "base_uri": "https://localhost:8080/"
        },
        "id": "u9jS8tlLlrvW",
        "outputId": "d43096c7-4192-437c-fbed-b9921a34e001"
      },
      "execution_count": null,
      "outputs": [
        {
          "output_type": "stream",
          "name": "stdout",
          "text": [
            "5\n",
            "R R R U D D\n",
            "1 2\n",
            "1 3\n",
            "1 4\n",
            "1 4\n",
            "2 4\n",
            "3 4\n",
            "3 4\n"
          ]
        }
      ]
    },
    {
      "cell_type": "markdown",
      "source": [
        "### 책풀이"
      ],
      "metadata": {
        "id": "aFGorzI_lUCx"
      }
    },
    {
      "cell_type": "code",
      "source": [
        "# N 입력받기\n",
        "n = int(input())\n",
        "x, y = 1, 1\n",
        "plans = input().split()\n",
        "\n",
        "# L, R, U, D에 따른 이동 방향\n",
        "dx = [0, 0, -1, 1]\n",
        "dy = [-1, 1, 0, 0]\n",
        "move_types = ['L', 'R', 'U', 'D']\n",
        "\n",
        "# 이동 계획을 하나씩 확인\n",
        "for plan in plans:\n",
        "    # 이동 후 좌표 구하기\n",
        "    for i in range(len(move_types)):\n",
        "        if plan == move_types[i]:\n",
        "            nx = x + dx[i]\n",
        "            ny = y + dy[i]\n",
        "    # 공간을 벗어나는 경우 무시\n",
        "    if nx < 1 or ny < 1 or nx > n or ny > n:\n",
        "        continue\n",
        "    # 이동 수행\n",
        "    x, y = nx, ny\n",
        "\n",
        "print(x, y)"
      ],
      "metadata": {
        "id": "uqniZMMAzqT0"
      },
      "execution_count": null,
      "outputs": []
    },
    {
      "cell_type": "code",
      "source": [
        " "
      ],
      "metadata": {
        "id": "WdGH1G_uzqYP"
      },
      "execution_count": null,
      "outputs": []
    },
    {
      "cell_type": "markdown",
      "source": [
        "## 시각 : 해결 o(19분 49초, 시간초과)"
      ],
      "metadata": {
        "id": "yKbBPC7ZlUbA"
      }
    },
    {
      "cell_type": "code",
      "source": [
        "\n",
        "# N = 1일때\n",
        "# _  _ 시_   _   분  _   _초\n",
        "#    0,1      0-5 0-9    0-5  0-9\n",
        "# 전체 경우의 수 - 3이 아예 안나오는 경우의 수 = (3600 - 2025) * 2\n",
        "# 전체 경우의수 : 6 * 10 * 6 * 10 = 3600\n",
        "# 3이 아예 안나오는 경우의 수 : 5 * 9 * 5 * 9 = 2025\n",
        "\n",
        "# N = 2일때 = (3600 - 2025) * 3\n",
        "# _  _ 시   _   _   분  _   _초\n",
        "#    0-2      0-5 0-9    0-5  0-9\n",
        "\n",
        "# N = 3일때 = (3600 - 2025) * 3\n",
        "# _  _ 시   _   _   분  _   _초\n",
        "#    0-3      0-5 0-9    0-5  0-9\n",
        "# 전체 경우의수 : 6 * 10 * 6 * 10 * 3 = 3600 * 4 = 10800\n",
        "# 3이 아예 안나오는 경우의 수 : 5 * 9 * 5 * 9 * 3 = 2025 * 3 = \n",
        "\n",
        "\n",
        "# N = 5일때 \n",
        "# _  _ 시   _   _   분  _   _초\n",
        "#    0-5      0-5 0-9    0-5  0-9\n",
        "# 전체 경우의수 : 6 * 10 * 6 * 10 * 3 =  3600 * 6 =\n",
        "# 3이 아예 안나오는 경우의 수 : 5 * 9 * 5 * 9 * 5 = 2025 * 5 = \n",
        "\n",
        "\n",
        "# N = 14일때 \n",
        "# _  _ 시   _   _   분  _   _초\n",
        "#    0-14      0-5 0-9    0-5  0-9\n",
        "# 전체 경우의수 : 6 * 10 * 6 * 10 * 15 =  3600 * 15 =\n",
        "# 3이 아예 안나오는 경우의 수 : 5 * 9 * 5 * 9 * 5 = 2025 * 13 = \n",
        "\n",
        "\n",
        "\n",
        "n = int(input())\n",
        "if n < 3:\n",
        "    print( (3600 - 2500) * (n+1) )\n",
        "elif n>=3 and n < 13:\n",
        "    print( 3600 * (n + 1) - 2025 * n)\n",
        "elif n >= 13:\n",
        "    print( 3600 * (n + 1) - 2025 * (n-1))"
      ],
      "metadata": {
        "colab": {
          "base_uri": "https://localhost:8080/"
        },
        "id": "TgEB6X-c47XJ",
        "outputId": "6408aafe-32dd-471e-9ad0-0f32e130a92e"
      },
      "execution_count": null,
      "outputs": [
        {
          "output_type": "stream",
          "name": "stdout",
          "text": [
            "5\n",
            "11475\n"
          ]
        }
      ]
    },
    {
      "cell_type": "markdown",
      "source": [
        "### 책풀이"
      ],
      "metadata": {
        "id": "RcXyx_q7lUxn"
      }
    },
    {
      "cell_type": "code",
      "source": [
        "# H를 입력받기\n",
        "h = int(input())\n",
        "\n",
        "count = 0\n",
        "for i in range(h + 1):\n",
        "    for j in range(60):\n",
        "        for k in range(60):\n",
        "            # 매 시각 안에 '3'이 포함되어 있다면 카운트 증가\n",
        "            if '3' in str(i) + str(j) + str(k):\n",
        "                count += 1\n",
        "\n",
        "print(count)"
      ],
      "metadata": {
        "id": "hhVQKuNT-rGz"
      },
      "execution_count": null,
      "outputs": []
    },
    {
      "cell_type": "markdown",
      "source": [
        "매 시각을 문자열로 바꾼 다음 문자열에 '3'이 포함되어있는지 검사.\n",
        "\n",
        "예시 : 03시 20분 35초 --> '032035'로 바꾼다음 '3'이 이 문자열에 포함되어 있는지 체크"
      ],
      "metadata": {
        "id": "UOc3quJ_-zVS"
      }
    },
    {
      "cell_type": "markdown",
      "source": [
        "## 왕실의 나이트 : 해결o (17분 28초)"
      ],
      "metadata": {
        "id": "g94uI5velVMQ"
      }
    },
    {
      "cell_type": "code",
      "source": [
        "# 입력 : 열(m), 행(n)\n",
        "knight = input()\n",
        "\n",
        "col_str = 'a b c d e f g h'\n",
        "col_lst = col_str.split(' ')\n",
        "# 새로운 열 번호\n",
        "m = int(col_lst.index(knight[0]) + 1) # 열\n",
        "n = int(knight[1]) # 행\n",
        "\n",
        "# 동쪽 2칸 이동 가능 m + 2 <= 8 -> 북 or 남 1칸씩 이동 가능한지 \n",
        "cnt = 0\n",
        "if m+2 <= 8:\n",
        "    if n-1 >= 1:\n",
        "        cnt +=1\n",
        "    if n+1 <= 8:\n",
        "        cnt += 1\n",
        "# 서쪽 2칸 이동 가능 m - 2 <= 8 -> 북 or 남 1칸씩 이동 가능한지 \n",
        "if m-2 >= 1:\n",
        "    if n-1 >= 1:\n",
        "        cnt +=1\n",
        "    if n+1 <= 8:\n",
        "        cnt += 1\n",
        "# 북쪽 2칸 이동 가능 n - 2 >= 1 -> 동 or 서 1칸씩 이동 가능한지 \n",
        "if n-2 >= 1:\n",
        "    if m-1 >= 1:\n",
        "        cnt +=1\n",
        "    if m+1 <= 8:\n",
        "        cnt += 1\n",
        "# 남쪽 2칸 이동 가능 n + 2 <= 8 -> 동 or 서 1칸씩 이동 가능한지 \n",
        "if n + 2 <= 8:\n",
        "    if n-1 >= 1:\n",
        "        cnt +=1\n",
        "    if n+1 <= 8:\n",
        "        cnt += 1\n",
        "print(cnt)"
      ],
      "metadata": {
        "colab": {
          "base_uri": "https://localhost:8080/"
        },
        "id": "I7FkIofM_C8-",
        "outputId": "19dd4b36-45c9-461b-ec2d-d9bef5b62938"
      },
      "execution_count": null,
      "outputs": [
        {
          "output_type": "stream",
          "name": "stdout",
          "text": [
            "c2\n",
            "6\n"
          ]
        }
      ]
    },
    {
      "cell_type": "markdown",
      "source": [
        "### 책답안"
      ],
      "metadata": {
        "id": "75EWuCOylVj6"
      }
    },
    {
      "cell_type": "code",
      "source": [
        "# 현재 나이트의 위치 입력받기\n",
        "input_data = input()\n",
        "row = int(input_data[1])\n",
        "column = int(ord(input_data[0])) - int(ord('a')) + 1\n",
        "\n",
        "# 나이트가 이동할 수 있는 8가지 방향 정의\n",
        "steps = [(-2, -1), (-1, -2), (1, -2), (2, -1), (2, 1), (1, 2), (-1, 2), (-2, 1)]\n",
        "\n",
        "# 8가지 방향에 대하여 각 위치로 이동이 가능한지 확인\n",
        "result = 0\n",
        "for step in steps:\n",
        "    # 이동하고자 하는 위치 확인\n",
        "    next_row = row + step[0]\n",
        "    next_column = column + step[1]\n",
        "    # 해당 위치로 이동이 가능하다면 카운트 증가\n",
        "    if next_row >= 1 and next_row <= 8 and next_column >= 1 and next_column <= 8:\n",
        "        result += 1\n",
        "\n",
        "print(result)"
      ],
      "metadata": {
        "id": "k0TprFmpEn6q"
      },
      "execution_count": null,
      "outputs": []
    },
    {
      "cell_type": "markdown",
      "source": [
        "* 나이트가 이동할 수 있는 경로를 하나씩 확인하며 이동 (이때 나이트가 이동할 수 있는 경로는 steps에 담아둔다.)\n",
        "* 이동하고자 하는 위치의 값이 1과 8 사이라면 (즉 해당 위치로 이동 가능하다는 뜻 ) result값 1 증가"
      ],
      "metadata": {
        "id": "TUP3zSYTFV6Q"
      }
    },
    {
      "cell_type": "markdown",
      "source": [
        "* ord(문자)\n",
        "\n",
        "하나의 문자를 인자로 받고 해당 문자에 해당하는 유니코드 정수를 반환합니다.\n",
        "\n",
        "ord('a')를 넣으면 정수 97을 반환"
      ],
      "metadata": {
        "id": "wstraU39F8fp"
      }
    },
    {
      "cell_type": "markdown",
      "source": [
        "## 게임 개발 : 3번 과정 미완성 (46분) --> 3번 과정 추가함"
      ],
      "metadata": {
        "id": "vr825p0DlmOH"
      }
    },
    {
      "cell_type": "code",
      "source": [
        "# n * m 크기의 맵 생성\n",
        "n, m = map(int, input().split())\n",
        "\n",
        "# 현재 좌표 x : 행, y : 열, 방향\n",
        "x, y, dir = map(int, input().split())\n",
        "\n",
        "map_dict = dict()\n",
        "# 바다 = 1, 육지 = 0\n",
        "for i in range(n):  \n",
        "    i_row = list(map(int, input().split()))\n",
        "    for j in range(m):\n",
        "        map_dict[(i, j)] = i_row[j]\n",
        "print(map_dict)\n",
        "\n",
        "# 북 : 0, 동 : 1, 남 : 2, 서 : 3\n",
        "# 북쪽(0)인경우 탐색순서 : 서 -> 남 -> 동 -> 북 : 3 2 1 0\n",
        "# 남쪽(2)인경우            동 -> 북 -> 서 -> 남 : 1 0 3 2 \n",
        "dir_dict = dict({0 : (-1, 0), 1 : (0, 1), 2 : (1, 0), 3 : (0, -1)}) # 동서남북 방향 정의 \n",
        "visit_lst = []\n",
        "visit_lst.append((x, y))\n",
        "# 현재 위치에서 갈 수 있는 방향 찾기\n",
        "\n",
        "\n",
        "while 1:\n",
        "    isvisit = 0\n",
        "    for d in range(dir-1, dir-5, -1): # 현재 방향에서 갈 수 있는 곳 찾기\n",
        "        now_dir = d%4 # 현재 방향\n",
        "        dx, dy = dir_dict[now_dir] # 방향 벡터\n",
        "        temp_x = x + dx\n",
        "        temp_y = y + dy\n",
        "        print(temp_x, temp_y)\n",
        "        if map_dict[(temp_x, temp_y)] == 0: # 해당 위치가 육지이고 방문하지 않은 곳이라면 -> 이동 가능하므로 이동\n",
        "            if (temp_x,temp_y) not in visit_lst:\n",
        "                x += dx\n",
        "                y += dy\n",
        "                visit_lst.append((x, y))\n",
        "                print(x, y)\n",
        "                dir = now_dir\n",
        "                isvisit = 1\n",
        "                break\n",
        "    if isvisit == 0: # 현재 위치에서 4개의 방향으로 이동 불가한 경우 : 3번과정 (방향 유지한 채로 한 칸 뒤로 가기)\n",
        "        dx, dy = dir_dict[d%4]\n",
        "        prev_x = x - dx\n",
        "        prev_y = y - dy\n",
        "        if map_dict[(prev_x, prev_y)] == 0: # 해당 위치가 육지라면 -> 이동 가능하므로 이동\n",
        "            x = prev_x\n",
        "            y = prev_y\n",
        "            dir = d%4\n",
        "        else: # 해당 위치가 바다라면  -> 실행 종료\n",
        "            print(len(visit_lst)) # 출력값\n",
        "            break\n",
        "\n",
        "\n",
        "\n",
        "\n"
      ],
      "metadata": {
        "colab": {
          "base_uri": "https://localhost:8080/"
        },
        "id": "39KXTR6rGCDo",
        "outputId": "224d44ad-e8e2-49d0-d1e1-88479f463c45"
      },
      "execution_count": null,
      "outputs": [
        {
          "output_type": "stream",
          "name": "stdout",
          "text": [
            "4 4\n",
            "1 1 0\n",
            "1 1 1 1\n",
            "1 0 0 1\n",
            "1 1 0 1\n",
            "1 1 1 1\n",
            "{(0, 0): 1, (0, 1): 1, (0, 2): 1, (0, 3): 1, (1, 0): 1, (1, 1): 0, (1, 2): 0, (1, 3): 1, (2, 0): 1, (2, 1): 1, (2, 2): 0, (2, 3): 1, (3, 0): 1, (3, 1): 1, (3, 2): 1, (3, 3): 1}\n",
            "1 0\n",
            "2 1\n",
            "1 2\n",
            "1 2\n",
            "0 2\n",
            "1 1\n",
            "2 2\n",
            "2 2\n",
            "2 3\n",
            "1 2\n",
            "2 1\n",
            "3 2\n",
            "1 3\n",
            "0 2\n",
            "1 1\n",
            "2 2\n",
            "3\n"
          ]
        }
      ]
    },
    {
      "cell_type": "markdown",
      "source": [
        "### 책답안"
      ],
      "metadata": {
        "id": "RMqg5SerlmrM"
      }
    },
    {
      "cell_type": "code",
      "source": [
        "# N, M을 공백을 기준으로 구분하여 입력받기\n",
        "n, m = map(int, input().split())\n",
        "\n",
        "# 방문한 위치를 저장하기 위한 맵을 생성하여 0으로 초기화\n",
        "d = [[0] * m for _ in range(n)]\n",
        "# 현재 캐릭터의 X 좌표, Y 좌표, 방향을 입력받기\n",
        "x, y, direction = map(int, input().split())\n",
        "d[x][y] = 1 # 현재 좌표 방문 처리\n",
        "\n",
        "# 전체 맵 정보를 입력받기\n",
        "array = []\n",
        "for i in range(n):\n",
        "    array.append(list(map(int, input().split())))\n",
        "\n",
        "# 북, 동, 남, 서 방향 정의\n",
        "dx = [-1, 0, 1, 0]\n",
        "dy = [0, 1, 0, -1]\n",
        "\n",
        "# 왼쪽으로 회전\n",
        "def turn_left():\n",
        "    global direction\n",
        "    direction -= 1\n",
        "    if direction == -1:\n",
        "        direction = 3\n",
        "\n",
        "# 시뮬레이션 시작\n",
        "count = 1\n",
        "turn_time = 0\n",
        "while True:\n",
        "    # 왼쪽으로 회전\n",
        "    turn_left()\n",
        "    nx = x + dx[direction]\n",
        "    ny = y + dy[direction]\n",
        "    # 회전한 이후 정면에 가보지 않은 칸이 존재하는 경우 이동\n",
        "    if d[nx][ny] == 0 and array[nx][ny] == 0:\n",
        "        d[nx][ny] = 1\n",
        "        x = nx\n",
        "        y = ny\n",
        "        count += 1\n",
        "        turn_time = 0\n",
        "        continue\n",
        "    # 회전한 이후 정면에 가보지 않은 칸이 없거나 바다인 경우\n",
        "    else:\n",
        "        turn_time += 1\n",
        "    # 네 방향 모두 갈 수 없는 경우\n",
        "    if turn_time == 4:\n",
        "        nx = x - dx[direction]\n",
        "        ny = y - dy[direction]\n",
        "        # 뒤로 갈 수 있다면 이동하기\n",
        "        if array[nx][ny] == 0:\n",
        "            x = nx\n",
        "            y = ny\n",
        "        # 뒤가 바다로 막혀있는 경우\n",
        "        else:\n",
        "            break\n",
        "        turn_time = 0\n",
        "\n",
        "# 정답 출력\n",
        "print(count)"
      ],
      "metadata": {
        "id": "6bgtHOeXss83"
      },
      "execution_count": null,
      "outputs": []
    },
    {
      "cell_type": "markdown",
      "source": [
        "* 방향을 설정해서 이동하는 문제 유형에서는 dx, dy라는 별도의 리스트를 만들어 방향을 정하는 것이 효과적\n",
        "* 2차원 리스트 만들 때 리스트 컴프리헨션 이용하자"
      ],
      "metadata": {
        "id": "4UzxPQT8i8ET"
      }
    },
    {
      "cell_type": "markdown",
      "source": [
        "# Chap12"
      ],
      "metadata": {
        "id": "Bfg1xEsdkwG8"
      }
    },
    {
      "cell_type": "markdown",
      "source": [
        "## 럭키 스트레이트 : 해결 o (10분)"
      ],
      "metadata": {
        "id": "nyBLoSJIkxcE"
      }
    },
    {
      "cell_type": "code",
      "source": [
        "n = input()\n",
        "left = n[:len(n) // 2]\n",
        "right = n[len(n) // 2 :]\n",
        "l_sum = 0\n",
        "r_sum = 0\n",
        "for l in left:\n",
        "    l_sum += int(l)\n",
        "for r in right:\n",
        "    r_sum += int(r)\n",
        "if l_sum == r_sum:\n",
        "    print('LUCKY')\n",
        "else:\n",
        "    print('READY')"
      ],
      "metadata": {
        "id": "l3mts3OEs0hG",
        "colab": {
          "base_uri": "https://localhost:8080/"
        },
        "outputId": "4c616a47-e16d-416c-cad7-765f5818fbbc"
      },
      "execution_count": 5,
      "outputs": [
        {
          "output_type": "stream",
          "name": "stdout",
          "text": [
            "7755\n",
            "READY\n"
          ]
        }
      ]
    },
    {
      "cell_type": "markdown",
      "source": [
        "### 책답안"
      ],
      "metadata": {
        "id": "LSpC92FRkx3O"
      }
    },
    {
      "cell_type": "code",
      "source": [
        "n = input()\n",
        "length = len(n) # 점수 값의 총 자릿수\n",
        "summary = 0\n",
        "\n",
        "# 왼쪽 부분의 자릿수의 합 더하기\n",
        "for i in range(length // 2):\n",
        "    summary += int(n[i])\n",
        "\n",
        "# 오른쪽 부분의 자릿수의 합 빼기\n",
        "for i in range(length // 2, length):\n",
        "    summary -= int(n[i])\n",
        "\n",
        "# 왼쪽 부분과 오른쪽 부분의 자릿수 합이 동일한지 검사\n",
        "if summary == 0:\n",
        "    print(\"LUCKY\")\n",
        "else:\n",
        "    print(\"READY\")"
      ],
      "metadata": {
        "id": "KgRs2Y_NRifh"
      },
      "execution_count": null,
      "outputs": []
    },
    {
      "cell_type": "markdown",
      "source": [
        "## 문자열 재정렬 : 해결O (8분 52초)"
      ],
      "metadata": {
        "id": "UDIbZWZakyMi"
      }
    },
    {
      "cell_type": "code",
      "source": [
        "s = input()\n",
        "total = 0\n",
        "alpha_str = ''\n",
        "for i in s:\n",
        "    if i.isalpha():\n",
        "        alpha_str += i\n",
        "    elif i.isdigit():\n",
        "        total+= int(i)\n",
        "''.join(sorted(alpha_str)) + str(total)"
      ],
      "metadata": {
        "colab": {
          "base_uri": "https://localhost:8080/",
          "height": 54
        },
        "id": "A3nG5P2PRjfJ",
        "outputId": "bebe206b-d2ba-4721-b6ec-65c022a5bf46"
      },
      "execution_count": 22,
      "outputs": [
        {
          "name": "stdout",
          "output_type": "stream",
          "text": [
            "AJKDLSI412K4JSJ9D\n"
          ]
        },
        {
          "output_type": "execute_result",
          "data": {
            "text/plain": [
              "'ADDIJJJKKLSS20'"
            ],
            "application/vnd.google.colaboratory.intrinsic+json": {
              "type": "string"
            }
          },
          "metadata": {},
          "execution_count": 22
        }
      ]
    },
    {
      "cell_type": "markdown",
      "source": [
        "### 책답안"
      ],
      "metadata": {
        "id": "Ynt36hnTkyq1"
      }
    },
    {
      "cell_type": "code",
      "source": [
        "data = input()\n",
        "result = []\n",
        "value = 0\n",
        "\n",
        "# 문자를 하나씩 확인하며\n",
        "for x in data:\n",
        "    # 알파벳인 경우 결과 리스트에 삽입\n",
        "    if x.isalpha():\n",
        "        result.append(x)\n",
        "    # 숫자는 따로 더하기\n",
        "    else:\n",
        "        value += int(x)\n",
        "\n",
        "# 알파벳을 오름차순으로 정렬\n",
        "result.sort()\n",
        "\n",
        "# 숫자가 하나라도 존재하는 경우 가장 뒤에 삽입\n",
        "if value != 0:\n",
        "    result.append(str(value))\n",
        "\n",
        "# 최종 결과 출력(리스트를 문자열로 변환하여 출력)\n",
        "print(''.join(result))"
      ],
      "metadata": {
        "id": "PJbvI-2kUO3N"
      },
      "execution_count": null,
      "outputs": []
    },
    {
      "cell_type": "code",
      "source": [
        ""
      ],
      "metadata": {
        "id": "gv8IYrnKUPCa"
      },
      "execution_count": null,
      "outputs": []
    },
    {
      "cell_type": "markdown",
      "source": [
        "## 문자열 압축 : 해결 o ( 1시간반)"
      ],
      "metadata": {
        "id": "zS414pj4kzBi"
      }
    },
    {
      "cell_type": "code",
      "source": [
        "def solution(s):\n",
        "    length = len(s)\n",
        "    min_len = length\n",
        "\n",
        "\n",
        "#- -/ - -/ - -/ - - /- -\n",
        "# 길이 : 8, 길이 : 9\n",
        "    for i in range(1, length // 2 + 1): # i 단위로 압축\n",
        "        answer = ''\n",
        "        num = 1\n",
        "        res = ''\n",
        "        lasttrue = 0\n",
        "        if length % i != 0:\n",
        "            res = s[-(length % i):] # 남는 부분\n",
        "\n",
        "        for j in range(length // i - 1): #  j = 0, 2, 4 (3번) / 0, 2, 4, 6 (3번)      \n",
        "\n",
        "            k  = j * i\n",
        "            if (s[k:k+i] == s[k+i:k+2*i]): # 0과 2, 2와 4, 4와 6 / 0과 2, 2와 4, 4와 6\n",
        "                num += 1\n",
        "                if k != (length // i - 2) * i:\n",
        "                    continue\n",
        "                else:\n",
        "                    lasttrue = 1\n",
        "            # 연속한 두 숫자가 다른경우\n",
        "            if num != 1:\n",
        "                if j != (length // i - 2):\n",
        "                    answer = answer + str(num) + s[k:k+i]\n",
        "                elif j == (length // i - 2) and lasttrue == 1:\n",
        "                    answer = answer + str(num) + s[k:k+i]\n",
        "                elif j == (length // i - 2) and lasttrue == 0:\n",
        "                    answer = answer + str(num) + s[k:k+i] + s[k+i:k+2*i]\n",
        "            else: # 1개인 경우\n",
        "                if j != (length // i - 2):\n",
        "                    answer = answer + s[k:k+i]\n",
        "                else:\n",
        "                    answer = answer + s[k:k+i] + s[k+i:k+2*i]\n",
        "            num = 1\n",
        "        answer += res\n",
        "        min_len = min(min_len, len(answer))\n",
        "\n",
        "    return min_len"
      ],
      "metadata": {
        "id": "0haIqe9VUlX3"
      },
      "execution_count": null,
      "outputs": []
    },
    {
      "cell_type": "code",
      "source": [
        ""
      ],
      "metadata": {
        "id": "OLtCKeKVUlkE"
      },
      "execution_count": null,
      "outputs": []
    },
    {
      "cell_type": "markdown",
      "source": [
        "### 책답안"
      ],
      "metadata": {
        "id": "MGXlgPgxkzYP"
      }
    },
    {
      "cell_type": "code",
      "source": [
        "def solution(s):\n",
        "    answer = len(s)\n",
        "    # 1개 단위(step)부터 압축 단위를 늘려가며 확인\n",
        "    for step in range(1, len(s) // 2 + 1):\n",
        "        compressed = \"\"\n",
        "        prev = s[0:step] # 앞에서부터 step만큼의 문자열 추출\n",
        "        count = 1\n",
        "        # 단위(step) 크기만큼 증가시키며 이전 문자열과 비교\n",
        "        for j in range(step, len(s), step):\n",
        "            # 이전 상태와 동일하다면 압축 횟수(count) 증가\n",
        "            if prev == s[j:j + step]:\n",
        "                count += 1\n",
        "            # 다른 문자열이 나왔다면(더 이상 압축하지 못하는 경우라면)\n",
        "            else:\n",
        "                compressed += str(count) + prev if count >= 2 else prev\n",
        "                prev = s[j:j + step] # 다시 상태 초기화\n",
        "                count = 1\n",
        "        # 남아있는 문자열에 대해서 처리\n",
        "        compressed += str(count) + prev if count >= 2 else prev\n",
        "        # 만들어지는 압축 문자열이 가장 짧은 것이 정답\n",
        "        answer = min(answer, len(compressed))\n",
        "    return answer"
      ],
      "metadata": {
        "id": "bIm_Y3iV7cpr"
      },
      "execution_count": null,
      "outputs": []
    },
    {
      "cell_type": "markdown",
      "source": [
        "* 문자열은 문자열 길이를 초과해도  인덱싱 가능함!!!! (오류안남, 아래 예시보기)"
      ],
      "metadata": {
        "id": "M53MxMjingDJ"
      }
    },
    {
      "cell_type": "code",
      "source": [
        "a = '1ad8'\n",
        "a[2:9] # 오류 안남 "
      ],
      "metadata": {
        "colab": {
          "base_uri": "https://localhost:8080/",
          "height": 35
        },
        "id": "nLFc6vNE7c6C",
        "outputId": "9f3194d3-bd43-43a5-81f6-5fd6631fd78e"
      },
      "execution_count": 2,
      "outputs": [
        {
          "output_type": "execute_result",
          "data": {
            "text/plain": [
              "'d8'"
            ],
            "application/vnd.google.colaboratory.intrinsic+json": {
              "type": "string"
            }
          },
          "metadata": {},
          "execution_count": 2
        }
      ]
    },
    {
      "cell_type": "markdown",
      "source": [
        "## 자물쇠와 열쇠 ; 못풂.."
      ],
      "metadata": {
        "id": "t8wuems6kztE"
      }
    },
    {
      "cell_type": "markdown",
      "source": [
        "### 책답안"
      ],
      "metadata": {
        "id": "HT592yJwlCTY"
      }
    },
    {
      "cell_type": "code",
      "source": [
        "# 2차원 리스트 90도 회전하기 : 알아두면 좋다.\n",
        "def rotate_a_matrix_by_90_degree(a):\n",
        "    n = len(a) # 행 길이 계산\n",
        "    m = len(a[0]) # 열 길이 계산\n",
        "    result = [[0] * n for _ in range(m)] # 결과 리스트 : n과 m이 바뀐 m*n 행렬\n",
        "    for i in range(n):\n",
        "        for j in range(m):\n",
        "            result[j][n - i - 1] = a[i][j]\n",
        "    return result\n",
        "\n",
        "# 자물쇠의 중간 부분이 모두 1인지 확인\n",
        "def check(new_lock):\n",
        "    lock_length = len(new_lock) // 3 ## 즉 자물쇠 크기인 n과 같음\n",
        "    for i in range(lock_length, lock_length * 2):\n",
        "        for j in range(lock_length, lock_length * 2):\n",
        "            if new_lock[i][j] != 1:\n",
        "                return False\n",
        "    return True\n",
        "\n",
        "def solution(key, lock):\n",
        "    n = len(lock)\n",
        "    m = len(key)\n",
        "    # 자물쇠의 크기를 기존의 3배로 변환\n",
        "    new_lock = [[0] * (n * 3) for _ in range(n * 3)]\n",
        "    # 새로운 자물쇠의 중앙 부분에 기존의 자물쇠 넣기\n",
        "    for i in range(n):\n",
        "        for j in range(n):\n",
        "            new_lock[i + n][j + n] = lock[i][j]\n",
        "\n",
        "    # 4가지 방향에 대해서 확인\n",
        "    for rotation in range(4):\n",
        "        key = rotate_a_matrix_by_90_degree(key) # 열쇠 회전\n",
        "        for x in range(n * 2): # 아래로 평행이동\n",
        "            for y in range(n * 2): # 오른쪽으로 평행이동\n",
        "                # 자물쇠에 열쇠를 끼워 넣기\n",
        "                for i in range(m):\n",
        "                    for j in range(m):\n",
        "                        new_lock[x + i][y + j] += key[i][j]\n",
        "                # 새로운 자물쇠에 열쇠가 정확히 들어 맞는지 검사\n",
        "                if check(new_lock) == True:\n",
        "                    return True\n",
        "                # 자물쇠에서 열쇠를 다시 빼서 평행이동 전 상태로 되돌리기\n",
        "                for i in range(m):\n",
        "                    for j in range(m):\n",
        "                        new_lock[x + i][y + j] -= key[i][j]\n",
        "    return False\n"
      ],
      "metadata": {
        "id": "TxAGEAQArxq3"
      },
      "execution_count": null,
      "outputs": []
    },
    {
      "cell_type": "markdown",
      "source": [
        "* 완전 탐색 이용 : 좌물쇠 리스트 크기를 3배 이상으로 변경 --> 열쇠를 왼쪽 위부터 시작해서 한칸씩 이동하는 방식으로 차례대로 자물쇠의 모든 홈을 채울 수 있는지 확인.\n",
        "* 2차원 리스트 90도 회전하기 : 알아두면 좋다.\n"
      ],
      "metadata": {
        "id": "diJYHwscFsYj"
      }
    },
    {
      "cell_type": "code",
      "source": [
        ""
      ],
      "metadata": {
        "id": "GpKzVMJdrxwF"
      },
      "execution_count": null,
      "outputs": []
    },
    {
      "cell_type": "code",
      "source": [
        ""
      ],
      "metadata": {
        "id": "IoUgGN5erx04"
      },
      "execution_count": null,
      "outputs": []
    },
    {
      "cell_type": "markdown",
      "source": [
        "## 뱀"
      ],
      "metadata": {
        "id": "fhaAWORxlCyU"
      }
    },
    {
      "cell_type": "code",
      "source": [
        ""
      ],
      "metadata": {
        "id": "d-4Qm3k1IOgk"
      },
      "execution_count": null,
      "outputs": []
    },
    {
      "cell_type": "code",
      "source": [
        ""
      ],
      "metadata": {
        "id": "fEKQWyLPIO1Z"
      },
      "execution_count": null,
      "outputs": []
    },
    {
      "cell_type": "code",
      "source": [
        ""
      ],
      "metadata": {
        "id": "juLLFbxSIO6l"
      },
      "execution_count": null,
      "outputs": []
    },
    {
      "cell_type": "code",
      "source": [
        ""
      ],
      "metadata": {
        "id": "rc6fiQ_MIO_P"
      },
      "execution_count": null,
      "outputs": []
    },
    {
      "cell_type": "markdown",
      "source": [
        "### 책답안"
      ],
      "metadata": {
        "id": "h5iUg77QlDJ0"
      }
    },
    {
      "cell_type": "markdown",
      "source": [
        "## 기둥과 보 설치"
      ],
      "metadata": {
        "id": "_x00-s5ylDeL"
      }
    },
    {
      "cell_type": "markdown",
      "source": [
        "### 책답안"
      ],
      "metadata": {
        "id": "L4TJxSarlD4t"
      }
    },
    {
      "cell_type": "markdown",
      "source": [
        "## 치킨 배달"
      ],
      "metadata": {
        "id": "G6tR8HEFlERS"
      }
    },
    {
      "cell_type": "markdown",
      "source": [
        "### 책답안"
      ],
      "metadata": {
        "id": "8VoYze9IlMaD"
      }
    },
    {
      "cell_type": "markdown",
      "source": [
        "## 외벽 점검"
      ],
      "metadata": {
        "id": "agkpT9RJlMtC"
      }
    },
    {
      "cell_type": "markdown",
      "source": [
        "### 책답안"
      ],
      "metadata": {
        "id": "9Rxzl_aNlM9p"
      }
    }
  ]
}